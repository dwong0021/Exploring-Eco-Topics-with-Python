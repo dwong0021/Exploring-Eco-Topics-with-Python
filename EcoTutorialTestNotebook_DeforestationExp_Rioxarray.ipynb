{
 "cells": [
  {
   "cell_type": "markdown",
   "id": "7e33dac3-ba16-44d7-a299-a2a21e7c5e24",
   "metadata": {},
   "source": [
    "# Exploring Eco topics with Python | TEST NOTEBOOK - Exploring Deforestation (with Rioxarray)\n",
    "---"
   ]
  },
  {
   "cell_type": "markdown",
   "id": "171ea3e9-fe0f-4978-b664-f3240e0259d4",
   "metadata": {},
   "source": [
    "## A."
   ]
  },
  {
   "cell_type": "code",
   "execution_count": null,
   "id": "e7a8d78e-b826-465a-9132-8226bcd1e461",
   "metadata": {
    "tags": []
   },
   "outputs": [],
   "source": [
    "import glob\n",
    "import numpy as np\n",
    "import xarray as xr\n",
    "import rioxarray as rxr\n",
    "import matplotlib.pyplot as plt"
   ]
  },
  {
   "cell_type": "code",
   "execution_count": null,
   "id": "3f1ee217-f77b-4e22-8780-3b349b17c12f",
   "metadata": {
    "tags": []
   },
   "outputs": [],
   "source": [
    "path = \"DeforestationExp_DATA\"\n",
    "extension = \".tif\"\n",
    "rasters = glob.glob(path + \"/*\" + extension)\n",
    "\n",
    "for i in rasters:\n",
    "    globals()[f'{i[len(path)+1 : -len(extension)]}'] = rxr.open_rasterio(i, masked=True).squeeze()"
   ]
  },
  {
   "cell_type": "markdown",
   "id": "941db356-0b6c-4403-bd5d-f9af918e85e3",
   "metadata": {},
   "source": [
    "## B."
   ]
  },
  {
   "cell_type": "code",
   "execution_count": null,
   "id": "91b8f19c-dae9-42cc-94f1-873a235159c2",
   "metadata": {
    "tags": []
   },
   "outputs": [],
   "source": [
    "ROI_1984_redband3.shape"
   ]
  },
  {
   "cell_type": "code",
   "execution_count": null,
   "id": "d4015f00-0953-4f69-8e91-a62afb77e2d1",
   "metadata": {
    "tags": []
   },
   "outputs": [],
   "source": [
    "ROI_1984_redband3.dtype"
   ]
  },
  {
   "cell_type": "code",
   "execution_count": null,
   "id": "1a6ef58f-9bce-4672-83be-bf0116047cad",
   "metadata": {
    "tags": []
   },
   "outputs": [],
   "source": [
    "ROI_1984_redband3.plot(cmap=\"Reds_r\", aspect=1.3, size=4)"
   ]
  },
  {
   "cell_type": "code",
   "execution_count": null,
   "id": "c5027979-0b66-4d61-9e68-0f9eae6a8e21",
   "metadata": {
    "tags": []
   },
   "outputs": [],
   "source": [
    "ROI_1984_redband3.rio.bounds()"
   ]
  },
  {
   "cell_type": "code",
   "execution_count": null,
   "id": "112113c7-e4b7-4f1b-aaed-261c2e921d34",
   "metadata": {
    "tags": []
   },
   "outputs": [],
   "source": [
    "ROI_1984_redband3.values[:5, :5]"
   ]
  },
  {
   "cell_type": "code",
   "execution_count": null,
   "id": "c3c0ff76-9f7e-4ba1-b3ea-7cdf37b91a7c",
   "metadata": {
    "tags": []
   },
   "outputs": [],
   "source": [
    "plt.matshow(ROI_1984_redband3.values[:5, :5], cmap=\"Reds_r\")"
   ]
  },
  {
   "cell_type": "code",
   "execution_count": null,
   "id": "780f458f-acf7-422f-b588-abf79c0a1f1d",
   "metadata": {
    "tags": []
   },
   "outputs": [],
   "source": [
    "array = ROI_1984_redband3.values[:5, :5]\n",
    "fig, ax = plt.subplots(figsize=(5,5))    \n",
    "ax.matshow(array, cmap=\"Reds_r\")\n",
    "for y in range(array.shape[0]):\n",
    "    for x in range(array.shape[1]):\n",
    "        plt.text(x,y,array[y,x], bbox=dict(facecolor='beige'), horizontalalignment=\"center\")"
   ]
  },
  {
   "cell_type": "markdown",
   "id": "f7fd4248-52e7-4f23-8c49-cafbbdb60833",
   "metadata": {
    "tags": []
   },
   "source": [
    "## C."
   ]
  },
  {
   "cell_type": "code",
   "execution_count": null,
   "id": "507d0176-c2e5-4652-b352-cefe63caa21a",
   "metadata": {
    "tags": []
   },
   "outputs": [],
   "source": [
    "fig, ax = plt.subplots(1,2, figsize=(14, 5))\n",
    "ROI_2022_redband4.plot(cmap=\"Reds_r\", ax=ax[0], robust=True)\n",
    "ROI_2022_nirband5.plot(cmap=\"Blues_r\", ax=ax[1], robust=True)\n",
    "plt.show()"
   ]
  },
  {
   "cell_type": "markdown",
   "id": "ffcfc0ac-d57f-4bfb-bdc7-70209d1ba04c",
   "metadata": {},
   "source": [
    "## D."
   ]
  },
  {
   "cell_type": "code",
   "execution_count": null,
   "id": "3996873a-2364-438f-b280-ffc20115c06a",
   "metadata": {
    "tags": []
   },
   "outputs": [],
   "source": [
    "NDVI_1984 = (ROI_1984_nirband4 - ROI_1984_redband3) / (ROI_1984_nirband4 + ROI_1984_redband3)"
   ]
  },
  {
   "cell_type": "code",
   "execution_count": null,
   "id": "36cf206a-89c2-4d14-9180-895d9ccc6c7f",
   "metadata": {
    "tags": []
   },
   "outputs": [],
   "source": [
    "NDVI_1984.values[:2, :2]"
   ]
  },
  {
   "cell_type": "code",
   "execution_count": null,
   "id": "135c398d-16c3-4a43-8527-649800589e3b",
   "metadata": {
    "tags": []
   },
   "outputs": [],
   "source": [
    "NDVI_2022 = (ROI_2022_nirband5 - ROI_2022_redband4) / (ROI_2022_nirband5 + ROI_2022_redband4)"
   ]
  },
  {
   "cell_type": "code",
   "execution_count": null,
   "id": "95cb9ed3-a3d2-4319-b68b-9dc71a45f20e",
   "metadata": {
    "tags": []
   },
   "outputs": [],
   "source": [
    "NDVI_2022.values[:2, :2]"
   ]
  },
  {
   "cell_type": "markdown",
   "id": "fefefec8-441d-4a73-9cf8-9fedda3693a8",
   "metadata": {},
   "source": [
    "## E."
   ]
  },
  {
   "cell_type": "code",
   "execution_count": null,
   "id": "aac3df05-fbcb-4368-b574-a99ead522571",
   "metadata": {
    "tags": []
   },
   "outputs": [],
   "source": [
    "fig, ax = plt.subplots(1,2, figsize=(14, 5))\n",
    "NDVI_1984.plot(cmap=\"terrain_r\", ax=ax[0], vmin=-0.15, vmax=0.75)\n",
    "NDVI_2022.plot(cmap=\"terrain_r\", ax=ax[1], vmin=-0.15, vmax=0.75)\n",
    "plt.show()"
   ]
  },
  {
   "cell_type": "code",
   "execution_count": null,
   "id": "a8b32a85-785d-4721-8f76-8de1d77b4e22",
   "metadata": {
    "tags": []
   },
   "outputs": [],
   "source": [
    "NDVI_1984.plot.hist(color=\"royalblue\")\n",
    "NDVI_2022.plot.hist(color=\"m\", alpha=0.5);"
   ]
  },
  {
   "cell_type": "markdown",
   "id": "3b4edf60-2959-4238-ba42-d0b282a4a011",
   "metadata": {},
   "source": [
    "## F."
   ]
  },
  {
   "cell_type": "code",
   "execution_count": null,
   "id": "7e2763bc-b3eb-47bb-857c-16d6fdaf0171",
   "metadata": {
    "tags": []
   },
   "outputs": [],
   "source": [
    "type(NDVI_2022)"
   ]
  },
  {
   "cell_type": "code",
   "execution_count": null,
   "id": "62770fc7-2791-4a9d-a9b3-f58e960dfeb3",
   "metadata": {
    "tags": []
   },
   "outputs": [],
   "source": [
    "LCLU = NDVI_2022.copy()"
   ]
  },
  {
   "cell_type": "code",
   "execution_count": null,
   "id": "6311a690-094f-41e7-8c53-c10484c7a793",
   "metadata": {
    "tags": []
   },
   "outputs": [],
   "source": [
    "LCLU_1 = xr.where(LCLU < 0.15, 100, LCLU)\n",
    "LCLU_2 = xr.where(LCLU_1 < 0.25, 200, LCLU_1)\n",
    "LCLU_3 = xr.where(LCLU_2 < 0.4, 300, LCLU_2)\n",
    "LCLU_4 = xr.where(LCLU_3 <= 1, 400, LCLU_3)"
   ]
  },
  {
   "cell_type": "code",
   "execution_count": null,
   "id": "ef7d49c1-7140-443d-859f-92a908771b9d",
   "metadata": {
    "tags": []
   },
   "outputs": [],
   "source": [
    "LCLU_4.plot()"
   ]
  },
  {
   "cell_type": "code",
   "execution_count": null,
   "id": "5608f481-b86d-4053-bf63-0614e7a2437b",
   "metadata": {
    "tags": []
   },
   "outputs": [],
   "source": [
    "from matplotlib.colors import ListedColormap"
   ]
  },
  {
   "cell_type": "code",
   "execution_count": null,
   "id": "4b31a6c5-3e03-4ae9-9a20-ff27c91b2a67",
   "metadata": {
    "tags": []
   },
   "outputs": [],
   "source": [
    "LCLU_cmap = ListedColormap([\"sandybrown\", \"gold\", \"yellowgreen\", \"forestgreen\"])"
   ]
  },
  {
   "cell_type": "code",
   "execution_count": null,
   "id": "6b111ed8-501d-4a7a-8bac-efbf5a663361",
   "metadata": {
    "tags": []
   },
   "outputs": [],
   "source": [
    "fig, ax = plt.subplots(figsize=(8,6))\n",
    "LCLU_4.plot(cmap=LCLU_cmap)\n",
    "colorbar=ax.collections[0].colorbar\n",
    "colorbar.set_ticks([100,200,300,400])\n",
    "colorbar.set_ticklabels([\"Rock/Bare Soil/Water/Concrete\", \"Sparse/Senescing Veg1\", \"Sparse/Senescing Veg2\", \"Denser Veg\"])\n",
    "plt.show()"
   ]
  },
  {
   "cell_type": "markdown",
   "id": "452ad118-3530-4e36-88d4-7a8c18f6bb9a",
   "metadata": {},
   "source": [
    "## G."
   ]
  },
  {
   "cell_type": "code",
   "execution_count": null,
   "id": "90cf6212-2de4-434e-9787-249be3f8765c",
   "metadata": {
    "tags": []
   },
   "outputs": [],
   "source": [
    "from pyproj import Transformer, CRS"
   ]
  },
  {
   "cell_type": "code",
   "execution_count": null,
   "id": "48cda889-9ca6-46e6-9aa4-93a5a6622b30",
   "metadata": {
    "tags": []
   },
   "outputs": [],
   "source": [
    "NDVI_2022.rio.crs"
   ]
  },
  {
   "cell_type": "code",
   "execution_count": null,
   "id": "543fcbce-1e04-42ac-8cb8-3939bca5f49f",
   "metadata": {
    "tags": []
   },
   "outputs": [],
   "source": [
    "CRS.from_epsg(32620)"
   ]
  },
  {
   "cell_type": "code",
   "execution_count": null,
   "id": "0999716a-dc5b-4a53-8cb8-092da8fe15aa",
   "metadata": {
    "tags": []
   },
   "outputs": [],
   "source": [
    "epsg4326_long = -61.00\n",
    "epsg4326_lat = -13.55"
   ]
  },
  {
   "cell_type": "code",
   "execution_count": null,
   "id": "eedda086-b252-4b96-8586-d5148e057bb8",
   "metadata": {
    "tags": []
   },
   "outputs": [],
   "source": [
    "transformer_4326to32620 = Transformer.from_crs(\"EPSG:4326\", NDVI_2022.rio.crs, always_xy=True)"
   ]
  },
  {
   "cell_type": "code",
   "execution_count": null,
   "id": "a5cc6cdc-a634-4444-8168-1438401d1ced",
   "metadata": {
    "tags": []
   },
   "outputs": [],
   "source": [
    "epsg32620_POI_x, epsg32620_POI_y = transformer_4326to32620.transform(epsg4326_long, epsg4326_lat)"
   ]
  },
  {
   "cell_type": "code",
   "execution_count": null,
   "id": "a91bb975-1fb1-4bb5-b0e6-acbf0b503c19",
   "metadata": {
    "tags": []
   },
   "outputs": [],
   "source": [
    "epsg32620_POI_x, epsg32620_POI_y"
   ]
  },
  {
   "cell_type": "code",
   "execution_count": null,
   "id": "3a3fce4a-38d9-47a7-8138-e2acac101143",
   "metadata": {
    "tags": []
   },
   "outputs": [],
   "source": [
    "NDVI_2022.sel(x=epsg32620_POI_x, y=epsg32620_POI_y, method=\"nearest\").values"
   ]
  },
  {
   "cell_type": "code",
   "execution_count": null,
   "id": "bbf0be00-7e09-4b11-a364-69e09e4bf026",
   "metadata": {
    "tags": []
   },
   "outputs": [],
   "source": [
    "fig, ax = plt.subplots(figsize=(11,8))\n",
    "LCLU_4.plot(cmap=LCLU_cmap)\n",
    "colorbar=ax.collections[0].colorbar\n",
    "colorbar.set_ticks([100,200,300,400])\n",
    "colorbar.set_ticklabels([\"Rock/Bare Soil/Water/Concrete\", \"Sparse/Senescing Veg1\", \"Sparse/Senescing Veg2\", \"Denser Veg\"])\n",
    "ax.annotate(\"New deforestation for pasture\", xy=(epsg32620_POI_x, epsg32620_POI_y), arrowprops=dict(facecolor=\"Red\"), textcoords=\"axes fraction\", xytext = (0.5, 0.15), fontsize=12)   \n",
    "plt.show()"
   ]
  },
  {
   "cell_type": "markdown",
   "id": "a8025d7c-8e86-47e4-ad81-5be67adae54d",
   "metadata": {},
   "source": [
    "---\n",
    "Copyright © 2023 Rho Zeta AI Ltd. All rights reserved."
   ]
  }
 ],
 "metadata": {
  "kernelspec": {
   "display_name": "Python 3 (ipykernel)",
   "language": "python",
   "name": "python3"
  },
  "language_info": {
   "codemirror_mode": {
    "name": "ipython",
    "version": 3
   },
   "file_extension": ".py",
   "mimetype": "text/x-python",
   "name": "python",
   "nbconvert_exporter": "python",
   "pygments_lexer": "ipython3",
   "version": "3.9.7"
  },
  "nteract": {
   "version": "0.28.0"
  }
 },
 "nbformat": 4,
 "nbformat_minor": 5
}
