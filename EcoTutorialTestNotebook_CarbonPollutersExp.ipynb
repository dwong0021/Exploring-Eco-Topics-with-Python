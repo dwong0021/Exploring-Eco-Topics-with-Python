{
 "cells": [
  {
   "cell_type": "markdown",
   "id": "94c029c2-0951-43c4-b474-95e19a0c0545",
   "metadata": {},
   "source": [
    "# Exploring Eco topics with Python | TEST NOTEBOOK - Carbon Polluters Exploration\n",
    "---"
   ]
  },
  {
   "cell_type": "markdown",
   "id": "1debba17-0daf-483e-b91b-2a18520d60b2",
   "metadata": {},
   "source": [
    "**<font color='red'>FYI internet access required for E.</font>**\n",
    "\n",
    "---"
   ]
  },
  {
   "cell_type": "markdown",
   "id": "34f1cd6b-6556-4653-b896-da195a7952a1",
   "metadata": {},
   "source": [
    "## A."
   ]
  },
  {
   "cell_type": "code",
   "execution_count": null,
   "id": "9687f612-9ada-49dd-ae3e-70ebc3ec0a61",
   "metadata": {
    "tags": []
   },
   "outputs": [],
   "source": [
    "import pandas as pd\n",
    "import numpy as np\n",
    "import matplotlib.pyplot as plt"
   ]
  },
  {
   "cell_type": "code",
   "execution_count": null,
   "id": "a45f8ffc-918d-4dd4-9bd0-429fc2af6e8d",
   "metadata": {
    "tags": []
   },
   "outputs": [],
   "source": [
    "raw_data = pd.read_csv(\"CarbonPollutersExp_DATA.csv\")"
   ]
  },
  {
   "cell_type": "code",
   "execution_count": null,
   "id": "21f6813b-ac4f-4b38-928d-61604ba404d8",
   "metadata": {
    "tags": []
   },
   "outputs": [],
   "source": [
    "df_prep = raw_data.copy()"
   ]
  },
  {
   "cell_type": "markdown",
   "id": "35338cf6-8c4a-4a29-a37f-04c2dec2ebdf",
   "metadata": {},
   "source": [
    "## B."
   ]
  },
  {
   "cell_type": "code",
   "execution_count": null,
   "id": "345c0fcc-cf8c-4e49-ab6a-377f13e63e79",
   "metadata": {
    "tags": []
   },
   "outputs": [],
   "source": [
    "df_prep.shape"
   ]
  },
  {
   "cell_type": "markdown",
   "id": "189cb53f-aa5a-4dfb-ad27-e8ebefc99e56",
   "metadata": {},
   "source": [
    "## C."
   ]
  },
  {
   "cell_type": "code",
   "execution_count": null,
   "id": "11b113f3-200a-4391-9ec1-333dee5d339e",
   "metadata": {
    "tags": []
   },
   "outputs": [],
   "source": [
    "list(enumerate(df_prep.columns))"
   ]
  },
  {
   "cell_type": "code",
   "execution_count": null,
   "id": "8066053a-0410-411f-a3e1-d250c3260cfc",
   "metadata": {
    "tags": []
   },
   "outputs": [],
   "source": [
    "df_prep.drop(columns = df_prep.columns[[10,22,23,24]], inplace=True)"
   ]
  },
  {
   "cell_type": "code",
   "execution_count": null,
   "id": "c5900f05-b744-49ad-b66f-b2aabc0f9f8a",
   "metadata": {
    "tags": []
   },
   "outputs": [],
   "source": [
    "df_prep.dtypes"
   ]
  },
  {
   "cell_type": "code",
   "execution_count": null,
   "id": "40ea516f-b165-48d0-9c2e-080f8b54c7e4",
   "metadata": {
    "tags": []
   },
   "outputs": [],
   "source": [
    "df_prep.rename(columns = lambda x: x.replace(\"TOTAL REPORTED EMISSIONS, \", \"\"), inplace=True)"
   ]
  },
  {
   "cell_type": "code",
   "execution_count": null,
   "id": "c1a22672-41ec-4a1b-bca0-49664d400d70",
   "metadata": {
    "tags": []
   },
   "outputs": [],
   "source": [
    "df_prep.loc[:, \"2011\":] = df_prep.loc[:, \"2011\":].applymap(lambda x: x.replace(\",\", \"\"))"
   ]
  },
  {
   "cell_type": "code",
   "execution_count": null,
   "id": "0b7d79fc-0ce4-4c9b-89cd-b3f790ec0880",
   "metadata": {
    "tags": []
   },
   "outputs": [],
   "source": [
    "df_prep.replace(\"---\", np.nan, inplace=True)"
   ]
  },
  {
   "cell_type": "code",
   "execution_count": null,
   "id": "42e9bf6f-4454-4b80-ac5e-fd2c80fb8870",
   "metadata": {
    "tags": []
   },
   "outputs": [],
   "source": [
    "df_prep.loc[:, \"2011\":] = df_prep.loc[:, \"2011\":].apply(pd.to_numeric)"
   ]
  },
  {
   "cell_type": "code",
   "execution_count": null,
   "id": "5ae5c170-4306-400b-aaec-22f998d36b8f",
   "metadata": {
    "tags": []
   },
   "outputs": [],
   "source": [
    "df_prep.describe()"
   ]
  },
  {
   "cell_type": "code",
   "execution_count": null,
   "id": "ac203436-5ac0-45f4-80f8-e8a2fe3ccaa0",
   "metadata": {
    "tags": []
   },
   "outputs": [],
   "source": [
    "df_prep[ df_prep.columns[-11:]].T.plot(legend=False)"
   ]
  },
  {
   "cell_type": "code",
   "execution_count": null,
   "id": "98b63b03-900d-4c7a-bf11-3f92a72926f4",
   "metadata": {
    "tags": []
   },
   "outputs": [],
   "source": [
    "((df_prep.iloc[:, -11:].isna()) | (df_prep.iloc[:, -11:] > 25000)).values.all()"
   ]
  },
  {
   "cell_type": "code",
   "execution_count": null,
   "id": "fa22fb1e-a4c9-465e-9764-a3814c00779d",
   "metadata": {
    "tags": []
   },
   "outputs": [],
   "source": [
    "df_prep[\"Cumulative\"] = df_prep.loc[:, \"2011\":].sum(axis=1)"
   ]
  },
  {
   "cell_type": "code",
   "execution_count": null,
   "id": "e5ccc432-77b7-4cd1-97ca-b9db23ea37fb",
   "metadata": {
    "tags": []
   },
   "outputs": [],
   "source": [
    "df_prep[\"Cumulative\"].sum()"
   ]
  },
  {
   "cell_type": "markdown",
   "id": "73e6f703-812a-4fff-8ac7-e2c84f269f54",
   "metadata": {},
   "source": [
    "## D."
   ]
  },
  {
   "cell_type": "code",
   "execution_count": null,
   "id": "f72466e5-1b98-4a97-ab5f-41e27360543c",
   "metadata": {
    "tags": []
   },
   "outputs": [],
   "source": [
    "import geopandas as gpd"
   ]
  },
  {
   "cell_type": "code",
   "execution_count": null,
   "id": "93a5728c-f335-4ad6-b86d-54e63e48c88f",
   "metadata": {
    "tags": []
   },
   "outputs": [],
   "source": [
    "geo_df = gpd.GeoDataFrame(df_prep, geometry=gpd.points_from_xy(df_prep[\"LONGITUDE\"], df_prep[\"LATITUDE\"]))"
   ]
  },
  {
   "cell_type": "code",
   "execution_count": null,
   "id": "a443b883-9184-4d42-85fe-9af8025483fd",
   "metadata": {
    "tags": []
   },
   "outputs": [],
   "source": [
    "geo_df.plot(column=\"Cumulative\", cmap=\"cool\")"
   ]
  },
  {
   "cell_type": "code",
   "execution_count": null,
   "id": "770db681-bfd2-4fa4-940d-2f8bc87a27df",
   "metadata": {
    "tags": []
   },
   "outputs": [],
   "source": [
    "base_map = gpd.read_file(gpd.datasets.get_path(\"naturalearth_lowres\")) "
   ]
  },
  {
   "cell_type": "code",
   "execution_count": null,
   "id": "83f47aed-c0c2-4a4c-a3f8-1fca180d23b7",
   "metadata": {
    "tags": []
   },
   "outputs": [],
   "source": [
    "base_map.plot()"
   ]
  },
  {
   "cell_type": "code",
   "execution_count": null,
   "id": "6c2551a4-efbb-437f-80ed-c4d035c62807",
   "metadata": {
    "tags": []
   },
   "outputs": [],
   "source": [
    "base_map.at[4, \"geometry\"]"
   ]
  },
  {
   "cell_type": "code",
   "execution_count": null,
   "id": "1dac3c2a-51fb-4e0f-938b-22218861b2c3",
   "metadata": {
    "tags": []
   },
   "outputs": [],
   "source": [
    "base_map.crs"
   ]
  },
  {
   "cell_type": "code",
   "execution_count": null,
   "id": "528b25d8-1044-4056-9e96-a603530637fc",
   "metadata": {
    "tags": []
   },
   "outputs": [],
   "source": [
    "fig, ax = plt.subplots(figsize=(12,8))    \n",
    "base_map.plot(ax=ax)\n",
    "geo_df.plot(ax=ax, column=\"Cumulative\", cmap=\"autumn_r\")  \n",
    "plt.show()"
   ]
  },
  {
   "cell_type": "markdown",
   "id": "10607502-d670-4e9e-a0f3-adcfc3ab4190",
   "metadata": {},
   "source": [
    "## E."
   ]
  },
  {
   "cell_type": "code",
   "execution_count": null,
   "id": "fe93ecc0-fff0-42f8-ab7e-8898481175c7",
   "metadata": {
    "tags": []
   },
   "outputs": [],
   "source": [
    "import folium"
   ]
  },
  {
   "cell_type": "code",
   "execution_count": null,
   "id": "704f3c2c-b5cc-47b4-884b-bab295443f8d",
   "metadata": {
    "tags": []
   },
   "outputs": [],
   "source": [
    "US_state_boundaries = gpd.read_file(\"cb_2021_us_state_20m/cb_2021_us_state_20m.shp\")"
   ]
  },
  {
   "cell_type": "code",
   "execution_count": null,
   "id": "46ca37e6-0362-4433-83f7-faf5c0831adb",
   "metadata": {
    "tags": []
   },
   "outputs": [],
   "source": [
    "US_state_boundaries.explore()"
   ]
  },
  {
   "cell_type": "code",
   "execution_count": null,
   "id": "4a5d1902-6885-4444-98ef-97e24702b1df",
   "metadata": {
    "tags": []
   },
   "outputs": [],
   "source": [
    "base_layer = US_state_boundaries.explore(location=[39, -97], width=\"50%\", height=\"50%\", zoom_start=4, min_zoom=3, tooltip=False, style_kwds=dict(fillOpacity=1, weight=1, fillColor=\"gainsboro\"), highlight_kwds=dict(fillOpacity=0, weight=3))\n",
    "\n",
    "geo_df.explore(m=base_layer, column=\"Cumulative\", marker_type=\"circle\", marker_kwds=dict(radius=4828, fill=False), cmap=\"autumn_r\", popup=[\"FACILITY\", \"Cumulative\"], tooltip=False)\n",
    "\n",
    "base_layer"
   ]
  },
  {
   "cell_type": "code",
   "execution_count": null,
   "id": "3a986bc6-8f6a-451d-8c4b-0b385712ef07",
   "metadata": {
    "tags": []
   },
   "outputs": [],
   "source": [
    "from folium.plugins import HeatMap\n",
    "\n",
    "heatmap_points = [ [lat, long, weight] for lat, long, weight in zip(geo_df[\"LATITUDE\"], geo_df[\"LONGITUDE\"], geo_df[\"Cumulative\"]) ]\n",
    "\n",
    "map_layer = folium.Map(location=[39, -97], tiles=\"cartodbpositron\", width=\"50%\", height=\"50%\", zoom_start=4, min_zoom=3)\n",
    "HeatMap(heatmap_points, radius=15, blur=5).add_to(map_layer)\n",
    "\n",
    "map_layer"
   ]
  },
  {
   "cell_type": "markdown",
   "id": "bc224d46-3ff8-4837-a13a-bf0ad3395006",
   "metadata": {},
   "source": [
    "## F."
   ]
  },
  {
   "cell_type": "code",
   "execution_count": null,
   "id": "412e6d24-25c6-4c9c-bea7-56e94e5d8b12",
   "metadata": {
    "tags": []
   },
   "outputs": [],
   "source": [
    "df_trends = df_prep.copy()"
   ]
  },
  {
   "cell_type": "code",
   "execution_count": null,
   "id": "1f6f7282-d2e7-477c-9ba2-c673f70af76a",
   "metadata": {
    "tags": []
   },
   "outputs": [],
   "source": [
    "del df_trends[\"geometry\"]"
   ]
  },
  {
   "cell_type": "code",
   "execution_count": null,
   "id": "faa49f2c-990e-474d-a2ad-530bc41cfbd0",
   "metadata": {
    "tags": []
   },
   "outputs": [],
   "source": [
    "df_trends.set_index([\"FACILITY\", \"STATE\"], inplace=True)"
   ]
  },
  {
   "cell_type": "code",
   "execution_count": null,
   "id": "b53b8d9a-f078-4800-bb2c-4d6e77e87b6a",
   "metadata": {
    "tags": []
   },
   "outputs": [],
   "source": [
    "df_trends.drop(df_trends.loc[:, \"GHGRP ID\":\"PARENT COMPANIES\"], axis=1, inplace=True)"
   ]
  },
  {
   "cell_type": "code",
   "execution_count": null,
   "id": "363feb20-ac94-4b0f-81fc-82a423c25735",
   "metadata": {
    "tags": []
   },
   "outputs": [],
   "source": [
    "df_trends.sort_values(\"Cumulative\").loc[:, \"2011\":\"2021\"].plot(kind=\"barh\", stacked=True, figsize=(20,15), legend=False, fontsize=8)"
   ]
  },
  {
   "cell_type": "code",
   "execution_count": null,
   "id": "f0f25820-ce58-4f48-bedf-390010ecbf03",
   "metadata": {
    "tags": []
   },
   "outputs": [],
   "source": [
    "worst12states = df_trends.groupby([\"STATE\"])[\"Cumulative\"].sum().sort_values(ascending=False).index[:12]"
   ]
  },
  {
   "cell_type": "code",
   "execution_count": null,
   "id": "f56950b1-5d24-43f5-bb05-0ab40cf43d59",
   "metadata": {
    "tags": []
   },
   "outputs": [],
   "source": [
    "df_timeseries = df_trends.drop(columns = \"Cumulative\").copy()"
   ]
  },
  {
   "cell_type": "code",
   "execution_count": null,
   "id": "ea5c5ff8-b3ee-4ecd-8f04-df57c31934ed",
   "metadata": {
    "tags": []
   },
   "outputs": [],
   "source": [
    "df_timeseries.xs(\"PA\", level=\"STATE\").T"
   ]
  },
  {
   "cell_type": "code",
   "execution_count": null,
   "id": "9a0e1e49-80fd-4586-9a9f-7783633c45e9",
   "metadata": {
    "tags": []
   },
   "outputs": [],
   "source": [
    "fig, axes = plt.subplots(nrows=4, ncols=3, figsize=(25,20), sharey=True)\n",
    "for state, ax in zip(worst12states, axes.flatten()):\n",
    "    df_timeseries.xs(state, level=\"STATE\").T.plot(ax=ax)\n",
    "    ax.set_title(state)\n",
    "    ax.legend(loc=\"best\", fontsize=\"medium\", labelspacing=0.25)\n",
    "\n",
    "plt.setp(axes, xlabel=\"Reporting Year\", ylabel=\"CO2e metric tons per Reporting Year\", xticks=range(len(df_timeseries.columns)), xticklabels= df_timeseries.columns,    \n",
    "         yticks=range(0,550001,25000))\n",
    "plt.tight_layout()\n",
    "plt.show()"
   ]
  },
  {
   "cell_type": "markdown",
   "id": "43349453-5656-4dc5-aeae-147c38623fc4",
   "metadata": {},
   "source": [
    "---\n",
    "Copyright © 2023 Rho Zeta AI Ltd. All rights reserved."
   ]
  }
 ],
 "metadata": {
  "kernelspec": {
   "display_name": "Python 3 (ipykernel)",
   "language": "python",
   "name": "python3"
  },
  "language_info": {
   "codemirror_mode": {
    "name": "ipython",
    "version": 3
   },
   "file_extension": ".py",
   "mimetype": "text/x-python",
   "name": "python",
   "nbconvert_exporter": "python",
   "pygments_lexer": "ipython3",
   "version": "3.9.7"
  },
  "nteract": {
   "version": "0.28.0"
  }
 },
 "nbformat": 4,
 "nbformat_minor": 5
}
