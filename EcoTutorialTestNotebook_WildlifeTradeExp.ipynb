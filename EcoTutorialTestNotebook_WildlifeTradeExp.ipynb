{
 "cells": [
  {
   "cell_type": "markdown",
   "id": "3b6c8474-5d15-4234-9e2b-045ec8103557",
   "metadata": {},
   "source": [
    "# Exploring Eco topics with Python | TEST NOTEBOOK - Wildlife Trade Exploration with Python\n",
    "---"
   ]
  },
  {
   "cell_type": "markdown",
   "id": "cadf67c7-2d5a-4c84-b66b-3e8bcce8e1c3",
   "metadata": {
    "tags": []
   },
   "source": [
    "## A."
   ]
  },
  {
   "cell_type": "code",
   "execution_count": null,
   "id": "9b4530e0-03a4-4e40-b265-673363d39295",
   "metadata": {
    "tags": []
   },
   "outputs": [],
   "source": [
    "import pandas as pd \n",
    "import networkx as nx\n",
    "import numpy as np\n",
    "import matplotlib.pyplot as plt"
   ]
  },
  {
   "cell_type": "code",
   "execution_count": null,
   "id": "50aa16c1-649d-4c0d-ba80-7a432b5c7e7c",
   "metadata": {
    "tags": []
   },
   "outputs": [],
   "source": [
    "raw_data = pd.read_csv(\"WildlifeTradeExp_DATA.csv\")"
   ]
  },
  {
   "cell_type": "code",
   "execution_count": null,
   "id": "65fe386c-b4dc-47ba-ba8b-4b1910d5dfa9",
   "metadata": {
    "tags": []
   },
   "outputs": [],
   "source": [
    "df_prep = raw_data.copy()"
   ]
  },
  {
   "cell_type": "markdown",
   "id": "90cb4670-9579-4b74-a1ca-b689f3333436",
   "metadata": {
    "tags": []
   },
   "source": [
    "## B."
   ]
  },
  {
   "cell_type": "code",
   "execution_count": null,
   "id": "96fc07d1-ac16-494b-beac-7cfc673bbde1",
   "metadata": {
    "tags": []
   },
   "outputs": [],
   "source": [
    "df_prep.shape"
   ]
  },
  {
   "cell_type": "code",
   "execution_count": null,
   "id": "7ebfd687-3427-4685-8688-1cb706ae4ce7",
   "metadata": {
    "tags": []
   },
   "outputs": [],
   "source": [
    "df_prep.dtypes"
   ]
  },
  {
   "cell_type": "markdown",
   "id": "2029d653-f724-45cc-87ff-e00850f2ba1b",
   "metadata": {},
   "source": [
    "## C."
   ]
  },
  {
   "cell_type": "code",
   "execution_count": null,
   "id": "19338a38-467e-4278-9f08-78adc1677c79",
   "metadata": {
    "tags": []
   },
   "outputs": [],
   "source": [
    "df_prep = df_prep[df_prep[\"Purpose\"].isin([\"H\", \"P\", \"Q\", \"T\", np.nan])].copy()"
   ]
  },
  {
   "cell_type": "code",
   "execution_count": null,
   "id": "fe00c7d1-ed71-4254-bc47-b013a3d39b42",
   "metadata": {
    "tags": []
   },
   "outputs": [],
   "source": [
    "df_prep[\"Term\"].value_counts(dropna=False)"
   ]
  },
  {
   "cell_type": "code",
   "execution_count": null,
   "id": "285c73c7-c73c-4694-8ec5-64ce1ea111f0",
   "metadata": {
    "tags": []
   },
   "outputs": [],
   "source": [
    "df_prep = df_prep[df_prep[\"Term\"].isin([\"live\", \"skins\", \"bodies\", \"trophies\", \"specimens\"])].copy()"
   ]
  },
  {
   "cell_type": "markdown",
   "id": "c99a310f-cc5a-4b53-b81f-4432c3593169",
   "metadata": {},
   "source": [
    "## D."
   ]
  },
  {
   "cell_type": "code",
   "execution_count": null,
   "id": "b9e63e6a-4b5e-4f1b-a168-ba4f96f63208",
   "metadata": {
    "tags": []
   },
   "outputs": [],
   "source": [
    "df_prep[[\"Importer\", \"Exporter\"]].isna().values.any()"
   ]
  },
  {
   "cell_type": "code",
   "execution_count": null,
   "id": "e420ce23-c56c-4dae-9658-ec1ddc86b3b0",
   "metadata": {
    "tags": []
   },
   "outputs": [],
   "source": [
    "df_prep.sample(10)"
   ]
  },
  {
   "cell_type": "code",
   "execution_count": null,
   "id": "d59cedd9-f71b-4d3b-8f9a-73138e909d24",
   "metadata": {
    "tags": []
   },
   "outputs": [],
   "source": [
    "df_prep [(df_prep[\"Importer reported quantity\"] == np.nan) & (df_prep[\"Exporter reported quantity\"] == np.nan)]"
   ]
  },
  {
   "cell_type": "code",
   "execution_count": null,
   "id": "dcd8ca76-2586-469a-9fff-e4e4faa9dbf8",
   "metadata": {
    "tags": []
   },
   "outputs": [],
   "source": [
    "df_prep[\"quantity\"] = df_prep.apply(lambda x: np.nanmax(x[[\"Importer reported quantity\", \"Exporter reported quantity\"]]), axis=\"columns\")"
   ]
  },
  {
   "cell_type": "markdown",
   "id": "c076540c-8433-417c-a69a-c0a9b78c88ad",
   "metadata": {
    "tags": []
   },
   "source": [
    "## E."
   ]
  },
  {
   "cell_type": "code",
   "execution_count": null,
   "id": "d50aefda-edd3-4dea-8e96-4a79b51108a3",
   "metadata": {
    "tags": []
   },
   "outputs": [],
   "source": [
    "edgelist_raw = df_prep[[\"Importer\", \"Exporter\", \"quantity\"]].copy()"
   ]
  },
  {
   "cell_type": "code",
   "execution_count": null,
   "id": "96b55c6d-cf41-40f5-b61d-0fffac32de72",
   "metadata": {
    "tags": []
   },
   "outputs": [],
   "source": [
    "edgelist_unique = edgelist_raw.groupby([\"Exporter\", \"Importer\"], as_index=False).sum().sort_values(\"quantity\", ascending=False).rename(columns={\"quantity\": \"weight\"})"
   ]
  },
  {
   "cell_type": "code",
   "execution_count": null,
   "id": "5b336bef-9c4a-4b88-8e07-c5991ec5ace1",
   "metadata": {
    "tags": []
   },
   "outputs": [],
   "source": [
    "edgelist_unique.weight.sum()"
   ]
  },
  {
   "cell_type": "markdown",
   "id": "7d53affd-7349-4ac2-8b0b-72e6bdc61c76",
   "metadata": {},
   "source": [
    "## F."
   ]
  },
  {
   "cell_type": "code",
   "execution_count": null,
   "id": "46bf014d-19ce-4df9-ab46-5b6fcdef92cc",
   "metadata": {
    "tags": []
   },
   "outputs": [],
   "source": [
    "G = nx.from_pandas_edgelist(df=edgelist_unique, source=\"Exporter\", target=\"Importer\", edge_attr=\"weight\", create_using=nx.MultiDiGraph())"
   ]
  },
  {
   "cell_type": "code",
   "execution_count": null,
   "id": "8e44429f-08b7-4442-99c9-2d70255e44e8",
   "metadata": {
    "tags": []
   },
   "outputs": [],
   "source": [
    "nx.draw_networkx(G, pos=nx.spring_layout(G, k=20))"
   ]
  },
  {
   "cell_type": "markdown",
   "id": "69626345-bb20-4e58-a9be-acf6854b0423",
   "metadata": {},
   "source": [
    "## G."
   ]
  },
  {
   "cell_type": "code",
   "execution_count": null,
   "id": "f09fbf0a-a63b-49df-b657-cd2a9327c6ba",
   "metadata": {
    "tags": []
   },
   "outputs": [],
   "source": [
    "list_drawing_values = []\n",
    "for i in G.edges(data=True):\n",
    "    list_drawing_values.append(i[2][\"weight\"])\n",
    "\n",
    "scaled_drawing_values = np.digitize(list_drawing_values, bins=np.arange(0,320000,40000))\n",
    "\n",
    "cmap = plt.colormaps[\"RdYlGn_r\"]\n",
    "norm_class = plt.Normalize(vmin=min(scaled_drawing_values), vmax=max(scaled_drawing_values))\n",
    "custom_edge_colors = cmap(norm_class(scaled_drawing_values))"
   ]
  },
  {
   "cell_type": "code",
   "execution_count": null,
   "id": "f3598de5-6910-4291-a940-356548894f83",
   "metadata": {
    "tags": []
   },
   "outputs": [],
   "source": [
    "plt.figure(figsize=(12,12))\n",
    "pos = nx.spring_layout(G, k=50, seed=0)\n",
    "nx.draw_networkx_nodes(G, pos, node_color=\"black\", node_size=1000)\n",
    "nx.draw_networkx_labels(G, pos, font_color=\"white\", font_size=18)\n",
    "nx.draw_networkx_edges(G, pos, width=scaled_drawing_values, edge_color=custom_edge_colors, arrows=True, arrowsize=12, min_target_margin=20)\n",
    "plt.axis(\"off\")\n",
    "plt.tight_layout()\n",
    "plt.show()"
   ]
  },
  {
   "cell_type": "markdown",
   "id": "9538f09e-fe68-4d68-80a7-a137bc7be93a",
   "metadata": {},
   "source": [
    "## H."
   ]
  },
  {
   "cell_type": "code",
   "execution_count": null,
   "id": "537b8e61-4b94-4cae-aac8-354aeb3a3455",
   "metadata": {
    "tags": []
   },
   "outputs": [],
   "source": [
    "G.number_of_nodes()"
   ]
  },
  {
   "cell_type": "code",
   "execution_count": null,
   "id": "02ef6a60-d684-4138-b56f-9cd16ea92216",
   "metadata": {
    "tags": []
   },
   "outputs": [],
   "source": [
    "sorted(nx.centrality.degree_centrality(G).items(), key=lambda item: item[1], reverse=True)[:10]"
   ]
  },
  {
   "cell_type": "markdown",
   "id": "99fa4480-1e31-4d7d-bdc8-46d1a609134a",
   "metadata": {},
   "source": [
    "---"
   ]
  },
  {
   "cell_type": "markdown",
   "id": "563b0065-3759-4d85-bfb8-a7b9f18bce63",
   "metadata": {},
   "source": [
    "Copyright © 2023 Rho Zeta AI Ltd. All rights reserved."
   ]
  }
 ],
 "metadata": {
  "kernelspec": {
   "display_name": "Python 3 (ipykernel)",
   "language": "python",
   "name": "python3"
  },
  "language_info": {
   "codemirror_mode": {
    "name": "ipython",
    "version": 3
   },
   "file_extension": ".py",
   "mimetype": "text/x-python",
   "name": "python",
   "nbconvert_exporter": "python",
   "pygments_lexer": "ipython3",
   "version": "3.9.7"
  },
  "nteract": {
   "version": "0.28.0"
  }
 },
 "nbformat": 4,
 "nbformat_minor": 5
}
