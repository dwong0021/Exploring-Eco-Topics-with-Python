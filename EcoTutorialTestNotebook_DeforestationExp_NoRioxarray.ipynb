{
 "cells": [
  {
   "cell_type": "markdown",
   "id": "7e33dac3-ba16-44d7-a299-a2a21e7c5e24",
   "metadata": {},
   "source": [
    "# Exploring Eco topics with Python | TEST NOTEBOOK - Exploring Deforestation (without Rioxarray)\n",
    "---"
   ]
  },
  {
   "cell_type": "markdown",
   "id": "43470dd1-4593-4dcb-be78-41a63114226d",
   "metadata": {},
   "source": [
    "**<font color='red'>FYI If unable to install rioxarray but have access to PIL, numpy, and matplotlib, test this alternative notebook.</font>**\n",
    "\n",
    "---"
   ]
  },
  {
   "cell_type": "markdown",
   "id": "171ea3e9-fe0f-4978-b664-f3240e0259d4",
   "metadata": {},
   "source": [
    "## A."
   ]
  },
  {
   "cell_type": "code",
   "execution_count": null,
   "id": "e7a8d78e-b826-465a-9132-8226bcd1e461",
   "metadata": {
    "tags": []
   },
   "outputs": [],
   "source": [
    "import glob\n",
    "from PIL import Image\n",
    "import numpy as np\n",
    "import matplotlib.pyplot as plt"
   ]
  },
  {
   "cell_type": "code",
   "execution_count": null,
   "id": "3f1ee217-f77b-4e22-8780-3b349b17c12f",
   "metadata": {
    "tags": []
   },
   "outputs": [],
   "source": [
    "# ESSENTIAL to edit the extension of the Tutorial files to .tiff instead of .tif in order to be read by PIL Image.open().\n",
    "\n",
    "path = \"DeforestationExp_DATA\"\n",
    "extension = \".tiff\"\n",
    "rasters = glob.glob(path + \"/*\" + extension)\n",
    "\n",
    "for i in rasters:   \n",
    "    globals()[f'{i[ len(path)+1 : -len(extension) ]}'] = np.asarray(Image.open(i), dtype=np.float32)"
   ]
  },
  {
   "cell_type": "markdown",
   "id": "941db356-0b6c-4403-bd5d-f9af918e85e3",
   "metadata": {},
   "source": [
    "## B."
   ]
  },
  {
   "cell_type": "code",
   "execution_count": null,
   "id": "91b8f19c-dae9-42cc-94f1-873a235159c2",
   "metadata": {
    "tags": []
   },
   "outputs": [],
   "source": [
    "ROI_1984_redband3.shape"
   ]
  },
  {
   "cell_type": "code",
   "execution_count": null,
   "id": "d4015f00-0953-4f69-8e91-a62afb77e2d1",
   "metadata": {
    "tags": []
   },
   "outputs": [],
   "source": [
    "ROI_1984_redband3.dtype"
   ]
  },
  {
   "cell_type": "code",
   "execution_count": null,
   "id": "1a6ef58f-9bce-4672-83be-bf0116047cad",
   "metadata": {
    "tags": []
   },
   "outputs": [],
   "source": [
    "plt.matshow(ROI_1984_redband3, cmap=\"Reds_r\")"
   ]
  },
  {
   "cell_type": "code",
   "execution_count": null,
   "id": "112113c7-e4b7-4f1b-aaed-261c2e921d34",
   "metadata": {
    "tags": []
   },
   "outputs": [],
   "source": [
    "ROI_1984_redband3[:5, :5]"
   ]
  },
  {
   "cell_type": "code",
   "execution_count": null,
   "id": "c3c0ff76-9f7e-4ba1-b3ea-7cdf37b91a7c",
   "metadata": {
    "tags": []
   },
   "outputs": [],
   "source": [
    "plt.matshow(ROI_1984_redband3[:5, :5], cmap=\"Reds_r\") "
   ]
  },
  {
   "cell_type": "code",
   "execution_count": null,
   "id": "780f458f-acf7-422f-b588-abf79c0a1f1d",
   "metadata": {
    "tags": []
   },
   "outputs": [],
   "source": [
    "array = ROI_1984_redband3[:5, :5]\n",
    "fig, ax = plt.subplots(figsize=(5,5))\n",
    "ax.matshow(array, cmap=\"Reds_r\")\n",
    "for y in range(array.shape[0]):\n",
    "    for x in range(array.shape[1]):\n",
    "        plt.text(x,y,array[y,x], bbox=dict(facecolor='beige'), horizontalalignment=\"center\")"
   ]
  },
  {
   "cell_type": "markdown",
   "id": "f7fd4248-52e7-4f23-8c49-cafbbdb60833",
   "metadata": {
    "tags": []
   },
   "source": [
    "## C."
   ]
  },
  {
   "cell_type": "code",
   "execution_count": null,
   "id": "507d0176-c2e5-4652-b352-cefe63caa21a",
   "metadata": {
    "tags": []
   },
   "outputs": [],
   "source": [
    "fig, ax = plt.subplots(1,2, figsize=(14,5))\n",
    "ax[0].matshow(ROI_1984_redband3, cmap=\"Reds_r\")\n",
    "ax[1].matshow(ROI_1984_nirband4, cmap=\"Blues_r\")\n",
    "plt.show()"
   ]
  },
  {
   "cell_type": "markdown",
   "id": "ffcfc0ac-d57f-4bfb-bdc7-70209d1ba04c",
   "metadata": {},
   "source": [
    "## D."
   ]
  },
  {
   "cell_type": "code",
   "execution_count": null,
   "id": "3996873a-2364-438f-b280-ffc20115c06a",
   "metadata": {
    "tags": []
   },
   "outputs": [],
   "source": [
    "NDVI_1984 = (ROI_1984_nirband4 - ROI_1984_redband3) / (ROI_1984_nirband4 + ROI_1984_redband3)"
   ]
  },
  {
   "cell_type": "code",
   "execution_count": null,
   "id": "36cf206a-89c2-4d14-9180-895d9ccc6c7f",
   "metadata": {
    "tags": []
   },
   "outputs": [],
   "source": [
    "NDVI_1984[:2, :2]"
   ]
  },
  {
   "cell_type": "code",
   "execution_count": null,
   "id": "135c398d-16c3-4a43-8527-649800589e3b",
   "metadata": {
    "tags": []
   },
   "outputs": [],
   "source": [
    "NDVI_2022 = (ROI_2022_nirband5 - ROI_2022_redband4) / (ROI_2022_nirband5 + ROI_2022_redband4)"
   ]
  },
  {
   "cell_type": "code",
   "execution_count": null,
   "id": "95cb9ed3-a3d2-4319-b68b-9dc71a45f20e",
   "metadata": {
    "tags": []
   },
   "outputs": [],
   "source": [
    "NDVI_2022[:2, :2]"
   ]
  },
  {
   "cell_type": "markdown",
   "id": "fefefec8-441d-4a73-9cf8-9fedda3693a8",
   "metadata": {},
   "source": [
    "## E."
   ]
  },
  {
   "cell_type": "code",
   "execution_count": null,
   "id": "aac3df05-fbcb-4368-b574-a99ead522571",
   "metadata": {
    "tags": []
   },
   "outputs": [],
   "source": [
    "fig, ax  = plt.subplots(1,2, figsize=(14,5))\n",
    "plot0 = ax[0].matshow(NDVI_1984, cmap=\"terrain_r\", vmin=-0.15, vmax=0.75)\n",
    "fig.colorbar(plot0, ax=ax[0])\n",
    "plot1 =ax[1].matshow(NDVI_2022, cmap=\"terrain_r\", vmin=-0.15, vmax=0.75)\n",
    "fig.colorbar(plot1, ax=ax[1])\n",
    "plt.show()"
   ]
  },
  {
   "cell_type": "code",
   "execution_count": null,
   "id": "a8b32a85-785d-4721-8f76-8de1d77b4e22",
   "metadata": {
    "tags": []
   },
   "outputs": [],
   "source": [
    "plt.figure()\n",
    "plt.hist(NDVI_1984.flatten(), color=\"royalblue\")\n",
    "plt.hist(NDVI_2022.flatten(), color=\"m\", alpha=0.5);"
   ]
  },
  {
   "cell_type": "markdown",
   "id": "3b4edf60-2959-4238-ba42-d0b282a4a011",
   "metadata": {},
   "source": [
    "## F."
   ]
  },
  {
   "cell_type": "code",
   "execution_count": null,
   "id": "62770fc7-2791-4a9d-a9b3-f58e960dfeb3",
   "metadata": {
    "tags": []
   },
   "outputs": [],
   "source": [
    "LCLU = NDVI_2022.copy()"
   ]
  },
  {
   "cell_type": "code",
   "execution_count": null,
   "id": "3743aa67-d05e-4a1f-832a-21a0f044a456",
   "metadata": {
    "tags": []
   },
   "outputs": [],
   "source": [
    "np.where(LCLU < 0.3, 99, LCLU)"
   ]
  },
  {
   "cell_type": "code",
   "execution_count": null,
   "id": "6311a690-094f-41e7-8c53-c10484c7a793",
   "metadata": {
    "tags": []
   },
   "outputs": [],
   "source": [
    "LCLU_1 = np.where(LCLU < 0.15, 100, LCLU)\n",
    "LCLU_2 = np.where(LCLU_1 < 0.25, 200, LCLU_1)\n",
    "LCLU_3 = np.where(LCLU_2 < 0.4, 300, LCLU_2)\n",
    "LCLU_4 = np.where(LCLU_3 <= 1, 400, LCLU_3)"
   ]
  },
  {
   "cell_type": "code",
   "execution_count": null,
   "id": "ef7d49c1-7140-443d-859f-92a908771b9d",
   "metadata": {
    "tags": []
   },
   "outputs": [],
   "source": [
    "LCLU_4_plot = plt.matshow(LCLU_4)\n",
    "fig.colorbar(LCLU_4_plot)\n",
    "plt.show()"
   ]
  },
  {
   "cell_type": "code",
   "execution_count": null,
   "id": "5608f481-b86d-4053-bf63-0614e7a2437b",
   "metadata": {
    "tags": []
   },
   "outputs": [],
   "source": [
    "from matplotlib.colors import ListedColormap"
   ]
  },
  {
   "cell_type": "code",
   "execution_count": null,
   "id": "4b31a6c5-3e03-4ae9-9a20-ff27c91b2a67",
   "metadata": {
    "tags": []
   },
   "outputs": [],
   "source": [
    "LCLU_cmap = ListedColormap([\"sandybrown\", \"gold\", \"yellowgreen\", \"forestgreen\"])"
   ]
  },
  {
   "cell_type": "code",
   "execution_count": null,
   "id": "6b111ed8-501d-4a7a-8bac-efbf5a663361",
   "metadata": {
    "tags": []
   },
   "outputs": [],
   "source": [
    "fig, ax = plt.subplots(figsize=(8,6))\n",
    "classed_plot = ax.matshow(LCLU_4, cmap=LCLU_cmap)\n",
    "cbar = fig.colorbar(classed_plot)\n",
    "cbar.set_ticks([100,200,300,400])\n",
    "cbar.set_ticklabels([\"Rock/Bare Soil/Water/Concrete\", \"Sparse/Senescing Veg1\", \"Sparse/Senescing Veg2\", \"Denser Veg\"])\n",
    "plt.show()"
   ]
  },
  {
   "cell_type": "markdown",
   "id": "114bc044-1933-41ec-9ce5-cf905c86e2e1",
   "metadata": {},
   "source": [
    "---\n",
    "Copyright © 2023 Rho Zeta AI Ltd. All rights reserved."
   ]
  }
 ],
 "metadata": {
  "kernelspec": {
   "display_name": "Python 3 (ipykernel)",
   "language": "python",
   "name": "python3"
  },
  "language_info": {
   "codemirror_mode": {
    "name": "ipython",
    "version": 3
   },
   "file_extension": ".py",
   "mimetype": "text/x-python",
   "name": "python",
   "nbconvert_exporter": "python",
   "pygments_lexer": "ipython3",
   "version": "3.9.7"
  },
  "nteract": {
   "version": "0.28.0"
  }
 },
 "nbformat": 4,
 "nbformat_minor": 5
}
