{
 "cells": [
  {
   "cell_type": "markdown",
   "id": "7e33dac3-ba16-44d7-a299-a2a21e7c5e24",
   "metadata": {},
   "source": [
    "# Exploring Deforestation with Python\n",
    "---"
   ]
  },
  {
   "cell_type": "markdown",
   "id": "43470dd1-4593-4dcb-be78-41a63114226d",
   "metadata": {},
   "source": [
    "**<font color='red'>FYI If unable to install rioxarray but have access to PIL, numpy, and matplotlib, follow the alternative code steps in blue text where available. Where they exist, the outputs of the alternative workflow are often the same as the main workflow, but will noticeably lack any geospatial references.</font>**\n",
    "\n",
    "---"
   ]
  },
  {
   "cell_type": "markdown",
   "id": "265b7e00-3a64-4b66-b045-c5ab69fedaaa",
   "metadata": {},
   "source": [
    "**Which example of Deforestation are we examining?**    \n",
    "Change from 1984 to 2022 in a 60 square km region of interest (ROI) originally covered mainly by tropical dry forest at the Brazil-Bolivia border within the Amazon River basin. \n",
    "    \n",
    "More context available from NASA's \"Mapping the Amazon\" series, which happens to feature the wider ROI -> https://earthobservatory.nasa.gov/images/145649/mapping-the-amazon"
   ]
  },
  {
   "cell_type": "markdown",
   "id": "0d2e01c1-179e-4038-b11c-37cd748309e5",
   "metadata": {},
   "source": [
    "**What scientific approaches are we taking?**    \n",
    "Satellite image processing and classification (hand-crafted/experimental)"
   ]
  },
  {
   "cell_type": "markdown",
   "id": "8353b92d-bd60-41ea-bb6e-f85dcda6d237",
   "metadata": {},
   "source": [
    "**What outputs will we develop?**       \n",
    "Spectral vegetation indices (NDVI) and thematic maps (Land Cover)."
   ]
  },
  {
   "cell_type": "markdown",
   "id": "84bfe23a-1e1c-4064-8bde-6bf54fafa097",
   "metadata": {},
   "source": [
    "**What will our outputs tell us?**    \n",
    "Help quantitatively detect and measure Land Cover and Land Use (LCLU) change in this ROI, particularly the clearance of original tropical dry forest since 1984."
   ]
  },
  {
   "cell_type": "markdown",
   "id": "af430f43-f274-4451-b605-eb03631fbe83",
   "metadata": {},
   "source": [
    "**Beyond the well-known Eco impacts of Deforestation, what makes this example significant?**      \n",
    "Exemplifies the contrasting historical LCLU change in a biome as a consequence of country boundaries and local differences, e.g. in Forest Governance, Stewardship etc.      \n",
    "Possible view of the ROI at ground-level -> https://andrebaertschi.photoshelter.com/image/I0000Nax5X69EnEA\n",
    "\n",
    "Can highlight issues of REDD project efficacy (Reducing Emissions From Deforestation and Forest Degradation) and carbon offsetting generally. The Noel Kempff Mercado National Park, which takes up a sizeable portion in the bottom-right of the ROI, is part of one of the world's first large-scale REDD projects, receiving investment from 3 energy companies in exchange for rights to apparently 51% of carbon credits generated, and had been accused of significant flaws -> https://www.theguardian.com/environment/2010/mar/11/greenwash-noel-kempff-forests"
   ]
  },
  {
   "cell_type": "markdown",
   "id": "7830686e-ad7c-4512-8c9a-d88561100668",
   "metadata": {},
   "source": [
    "---\n",
    "**Data Source - Satellite Imagery**\n",
    "* Tutorial subfolder: `DeforestationExp_DATA`\n",
    "* Tutorial files:\n",
    "    * `ROI_1984_nirband4.tif` - clip of Landsat 5 TM Scene 230/69, Near Infrared Band (B4) (Aug 13th, 1984)\n",
    "    * `ROI_1984_redband3.tif` - clip of Landsat 5 TM Scene 230/69, Red Band (B3) (Aug 13th, 1984)\n",
    "    * `ROI_2022_nirband5.tif` - clip of Landsat 9 OLI Scene 230/69, Near Infrared Band (B5)(Aug 14th, 2022)\n",
    "    * `ROI_2022_redband4.tif` - clip of Landsat 9 OLI Scene 230/69, Red Band (B4) (Aug 14th, 2022)\n",
    "* Org: The US Geological Survey (USGS)\n",
    "* Resource: LandsatLook, a portal that allows rapid online viewing and access to the USGS Landsat Collection 2 data -> https://landsatlook.usgs.gov/\n",
    "---"
   ]
  },
  {
   "cell_type": "markdown",
   "id": "8d4b2def-0e5f-4464-abe8-29d1a423a59a",
   "metadata": {},
   "source": [
    "**Extra info on Spectral Remote Sensing**\n",
    "* National Ecological Observatory Network (NEON), \"Mapping the Invisible - Intro to Spectral Remote Sensing\" (short video) -> https://youtu.be/3iaFzafWJQE\n",
    "* NASA Remote Sensing primer -> https://www.earthdata.nasa.gov/learn/backgrounders/remote-sensing \n",
    "* NASA Applied Remote Sensing Training Program (ARSET), Remote Sensing Fundamentals -> https://appliedsciences.nasa.gov/sites/default/files/2022-11/Fundamentals_of_RS_Edited_SC.pdf\n",
    "---"
   ]
  },
  {
   "cell_type": "markdown",
   "id": "171ea3e9-fe0f-4978-b664-f3240e0259d4",
   "metadata": {},
   "source": [
    "## A. Set-up Jupyter Notebook & satellite data"
   ]
  },
  {
   "cell_type": "markdown",
   "id": "0d1ddf7b-5a45-4b98-8b8e-74708f4fed74",
   "metadata": {
    "tags": []
   },
   "source": [
    ">**A0.** Import required packages and submodule.\n",
    ">```\n",
    "import glob\n",
    "import numpy as np\n",
    "import xarray as xr\n",
    "import rioxarray as rxr\n",
    "import matplotlib.pyplot as plt\n",
    "```"
   ]
  },
  {
   "cell_type": "markdown",
   "id": "e69fc80e-d017-4a03-a2ba-d2df452554ec",
   "metadata": {
    "tags": []
   },
   "source": [
    "> <font color='blue'>**A0.** Alternative </font>\n",
    ">```\n",
    "import glob\n",
    "from PIL import Image\n",
    "import numpy as np\n",
    "import matplotlib.pyplot as plt\n",
    "```"
   ]
  },
  {
   "cell_type": "code",
   "execution_count": null,
   "id": "e7a8d78e-b826-465a-9132-8226bcd1e461",
   "metadata": {
    "tags": []
   },
   "outputs": [],
   "source": []
  },
  {
   "cell_type": "markdown",
   "id": "e9e5edc8-8e0d-4174-a7f5-9b31fb72cf68",
   "metadata": {},
   "source": [
    ">**A1.** / <font color='blue'>**A1.** Alternative</font> (OPTIONAL) For autocompletion, or if it's not working, try running this magic command.\n",
    "```\n",
    "%config Completer.use_jedi = False\n",
    "```"
   ]
  },
  {
   "cell_type": "code",
   "execution_count": null,
   "id": "80d8442b-34cb-4676-b55f-eaf4bddff218",
   "metadata": {
    "tags": []
   },
   "outputs": [],
   "source": []
  },
  {
   "cell_type": "markdown",
   "id": "6c6dd475-9bb9-4771-abb2-5b05ee61f8f3",
   "metadata": {
    "tags": []
   },
   "source": [
    ">**A2.** Read-in the 4 Tutorial files in the `DeforestationExp_DATA` subfolder, also creating global variables with the same name as their corresponding filename (i.e. the substring excluding the `.tif` file extension).\n",
    ">\n",
    ">**Tech Note:** `masked=True` is passed to rioxarray's `open_rasterio()` method to mask any potential `NoData` values.\n",
    ">```\n",
    "path = \"DeforestationExp_DATA\"\n",
    "extension = \".tif\"\n",
    "rasters = glob.glob(path + \"/*\" + extension)\n",
    ">\n",
    ">for i in rasters:\n",
    "    globals()[f'{i[ len(path)+1 : -len(extension) ]}'] = rxr.open_rasterio(i, masked=True).squeeze()\n",
    "```"
   ]
  },
  {
   "cell_type": "markdown",
   "id": "d7b7a0f1-4106-478d-9db5-9472165ede87",
   "metadata": {
    "tags": []
   },
   "source": [
    "> <font color='blue'>**A2.** Alternative</font>      \n",
    "> <font color='blue'>**ESSENTIAL** to edit the extension of each file to `.tiff` instead of `.tif` in order to be read by PIL `Image.open()`.</font>\n",
    ">```\n",
    "path = \"DeforestationExp_DATA\"\n",
    "extension = \".tiff\"\n",
    "rasters = glob.glob(path + \"/*\" + extension)\n",
    ">\n",
    ">for i in rasters:   \n",
    "    globals()[f'{i[ len(path)+1 : -len(extension) ]}'] = np.asarray(Image.open(i), dtype=np.float32)\n",
    "```"
   ]
  },
  {
   "cell_type": "code",
   "execution_count": null,
   "id": "3f1ee217-f77b-4e22-8780-3b349b17c12f",
   "metadata": {
    "tags": []
   },
   "outputs": [],
   "source": []
  },
  {
   "cell_type": "markdown",
   "id": "941db356-0b6c-4403-bd5d-f9af918e85e3",
   "metadata": {},
   "source": [
    "---\n",
    "## B. Inspect the satellite data"
   ]
  },
  {
   "cell_type": "markdown",
   "id": "f247489d-102b-4cb1-8436-a9485bd33c77",
   "metadata": {
    "tags": []
   },
   "source": [
    "<font color=\"green\">***B. Intro***   \n",
    "*- Raster data is one of two main types of geospatial data. The other is vector data - the points and polygons we handled in the mapping sections of the Carbon Polluters Exploration are examples of this.*    \n",
    "*- Data stored in raster format are typically in a grid/matrix structure, and render as pixels (picture elements).*      \n",
    "*- For geospatial raster data, each pixel relates to some area on Earth, and each pixel value is a measurement of some real-world phenomenon.*       \n",
    "*- The 4 Tutorial files are geospatial raster datasets, and the pixel values they contain are satellite measurements of amounts of light reflected from a single band of the electromagnetic spectrum/defined range of wavelengths, i.e. spectral reflectance values.*    \n",
    "*- Specifically, each single-band raster contains measurements of either `Red` band or `Near Infrared` (NIR) reflected light.*     \n",
    "\n",
    "<font color=\"green\">***CAVEAT!! HIGH-LEVEL EXPLORATION ONLY!!***    \n",
    "*- There are differences in both `Red` and `NIR` band coverage between the two Landsat sources of Tutorial files, Landsat 5 TM and Landsat 9 OLI, which are older and new sensors respectively - see comparison table below for details extracted from the USGS band designation doc -> https://www.usgs.gov/faqs/what-are-band-designations-landsat-satellites).*    \n",
    "    \n",
    "    \n",
    "|                     | Red Band Wavelength | NIR Band Wavelength |\n",
    "| ------------------- | -------------|---------------|\n",
    "|  Landsat 5 TM|  0.63 - 0.69 |  0.76 - 0.90  |\n",
    "|  Landsat 9 OLI|  0.64 - 0.67 |  0.85 - 0.88  |\n",
    "    \n",
    "    \n",
    "<font color=\"green\">*- As the two sensors have not, therefore, collected like-for-like data, expect some limitation on the comparability of data outputs derived from these different sources.*"
   ]
  },
  {
   "cell_type": "markdown",
   "id": "58299f9c-cccf-4928-afdf-16f80375e5db",
   "metadata": {},
   "source": [
    ">**B0.** / <font color='blue'>**B0.** Alternative</font> Check the dimensions of any of the 4 Tutorial rasters, i.e. `ROI_1984_redband3`, `ROI_1984_nirband4`, `ROI_2022_redband4`, or `ROI_2022_nirband5`.\n",
    ">\n",
    ">**Tech Note:** The original Tutorial GeoTIFF files has 3 dimensions, i.e. (<no. of bands>, <no. of rows>, <no. of columns>). However given single-band rasters the band dimension has length 1, this dimension has been removed in A2. through the `squeeze()` call.\n",
    ">```\n",
    "ROI_1984_redband3.shape\n",
    "```"
   ]
  },
  {
   "cell_type": "code",
   "execution_count": null,
   "id": "91b8f19c-dae9-42cc-94f1-873a235159c2",
   "metadata": {
    "tags": []
   },
   "outputs": [],
   "source": []
  },
  {
   "cell_type": "markdown",
   "id": "2a693c9e-20bd-436d-b7c8-4f56fd57d51e",
   "metadata": {
    "tags": []
   },
   "source": [
    ">**B1.** / <font color='blue'>**B1.** Alternative</font> Check the `dtype` of any of the Tutorial rasters.\n",
    ">\n",
    ">**Tech Note:** The original data downloaded from LandsatLook has the `dtype` `uint16`. The read-in Tutorial rasters are now `floats` as a result of specifying `NoData` values to be masked, i.e. converted to `NaN`. Read more on the raw satellite data, e.g. from here -> https://yceo.yale.edu/how-convert-landsat-dns-top-atmosphere-toa-reflectance\n",
    ">```\n",
    "ROI_1984_redband3.dtype\n",
    "```"
   ]
  },
  {
   "cell_type": "code",
   "execution_count": null,
   "id": "d4015f00-0953-4f69-8e91-a62afb77e2d1",
   "metadata": {
    "tags": []
   },
   "outputs": [],
   "source": []
  },
  {
   "cell_type": "markdown",
   "id": "ddeca028-10a4-4d8c-9ad0-ce09ac2b3569",
   "metadata": {
    "tags": []
   },
   "source": [
    ">**B2.** Try rendering the Red band reflectance values of the ROI in 1984 using `plot()`, which, of course, uses matplotlib. Pass `\"Reds_r\"` as the optional `cmap` argument, and adjust the size and aspect of the plot (to be smaller than the default so as to be faster).\n",
    ">\n",
    ">**Tech Note:** The areas where more light was reflected (with higher spectral reflectance values) should be coloured as brighter pixels and vice versa, hence the reversed cmap `\"Reds_r\"`.\n",
    ">```\n",
    "ROI_1984_redband3.plot(cmap=\"Reds_r\", aspect=1.3, size=4)\n",
    "```"
   ]
  },
  {
   "cell_type": "markdown",
   "id": "0130d2c3-5071-4405-acc2-83cf10f4a7f7",
   "metadata": {
    "tags": []
   },
   "source": [
    "> <font color='blue'>**B2.** Alternative</font>  \n",
    ">```\n",
    "plt.matshow(ROI_1984_redband3, cmap=\"Reds_r\")\n",
    "```"
   ]
  },
  {
   "cell_type": "code",
   "execution_count": null,
   "id": "1a6ef58f-9bce-4672-83be-bf0116047cad",
   "metadata": {
    "tags": []
   },
   "outputs": [],
   "source": []
  },
  {
   "cell_type": "markdown",
   "id": "a6aceaa3-c9cb-4d51-81c3-b5c3c85e0b85",
   "metadata": {
    "tags": []
   },
   "source": [
    "<font color=\"green\">***B2. Comment***    \n",
    "*- There is a visible orthogonal pattern that looks like the \"Fishbone\" Amazon deforestation pattern -> https://landsat.visibleearth.nasa.gov/view.php?id=145888*"
   ]
  },
  {
   "cell_type": "markdown",
   "id": "6765bbd6-8e56-40fb-ae92-9e3ba6e774ee",
   "metadata": {
    "tags": []
   },
   "source": [
    ">**B3.** / <font color='blue'>**B3.** No Alternative</font> There is a range of spatial metadata embedded in our rasters. Use rioxarray's `bounds()` method to check the spatial extent of any of the rasters. \n",
    ">\n",
    ">**Code Detail:** Result is the outermost coordinates, i.e. corners of the raster in the order (left, bottom, right, top).  \n",
    ">\n",
    ">**Tech Note:** Should be close to the values originally used to prepare the clip, i.e. `minx=693000, miny=-1.52e6, maxx=753000, maxy=-1.46e6`, but may not exactly match. (Thoughts why?)   \n",
    ">```\n",
    "ROI_1984_redband3.rio.bounds()\n",
    "```"
   ]
  },
  {
   "cell_type": "code",
   "execution_count": null,
   "id": "c5027979-0b66-4d61-9e68-0f9eae6a8e21",
   "metadata": {
    "tags": []
   },
   "outputs": [],
   "source": []
  },
  {
   "cell_type": "markdown",
   "id": "a34df098-94d9-4778-b1c8-a4118d762740",
   "metadata": {},
   "source": [
    ">**B4.** Have a look at some actual reflectance values. Extract a sample at the top-left corner of the `ROI_1984_redband3` raster as a numpy subarray, specifically the first 5 rows and 5 columns.    \n",
    ">\n",
    ">**Code Detail:** `ROI_1984_redband3`, an xarray `DataArray` data structure, has an attribute `values` that returns it's data as a numpy array.\n",
    ">```\n",
    "ROI_1984_redband3.values[:5, :5]    # Reminder that 2D array indexing is in the format [<rows>, <columns>]\n",
    "```"
   ]
  },
  {
   "cell_type": "markdown",
   "id": "6458f844-eb43-4793-a44d-e60185eaaf6c",
   "metadata": {
    "tags": []
   },
   "source": [
    "> <font color='blue'>**B4.** Alternative</font>  \n",
    ">```\n",
    "ROI_1984_redband3[:5, :5]\n",
    "```"
   ]
  },
  {
   "cell_type": "code",
   "execution_count": null,
   "id": "112113c7-e4b7-4f1b-aaed-261c2e921d34",
   "metadata": {
    "tags": []
   },
   "outputs": [],
   "source": []
  },
  {
   "cell_type": "markdown",
   "id": "289de3d3-a321-43d1-81c7-f1a0e471b2de",
   "metadata": {
    "tags": []
   },
   "source": [
    "<font color=\"green\">***B4. Comments***     \n",
    "*- Each value is the amount of Red band reflectance from a specific 30m x 30m area at the Brazil-Bolivia border that Landsat 5 TM measured on August 13th 1984.*    \n",
    "*- 30m represents the spatial resolution of our rasters, a metric indicating the ground surface area that forms a single pixel. (Satellite) sensors can have higher or lower spatial resolution, e.g. MODIS where 250m-1km squared is covered by each pixel.*"
   ]
  },
  {
   "cell_type": "markdown",
   "id": "b66be06f-d051-4c8a-bb83-54017ff12e13",
   "metadata": {},
   "source": [
    ">**B5.** Try rendering this numpy subarray of Red band reflectance values using matplotlib's `matshow()` function.\n",
    ">```\n",
    "plt.matshow(ROI_1984_redband3.values[:5, :5], cmap=\"Reds_r\")\n",
    "```"
   ]
  },
  {
   "cell_type": "markdown",
   "id": "602576f8-bac5-432f-81bf-f87279199c9e",
   "metadata": {
    "tags": []
   },
   "source": [
    "> <font color='blue'>**B5.** Alternative</font>  \n",
    ">```\n",
    "plt.matshow(ROI_1984_redband3[:5, :5], cmap=\"Reds_r\") \n",
    "```"
   ]
  },
  {
   "cell_type": "code",
   "execution_count": null,
   "id": "c3c0ff76-9f7e-4ba1-b3ea-7cdf37b91a7c",
   "metadata": {
    "tags": []
   },
   "outputs": [],
   "source": []
  },
  {
   "cell_type": "markdown",
   "id": "a906a141-6bab-41a8-a0ff-2e5546f6a737",
   "metadata": {},
   "source": [
    ">**B6.** (OPTIONAL) Extract and plot a numpy subarray of `ROI_1984_redband3` values as in **B5.** but this time annotate each pixel with it's (reflectance) value.\n",
    ">```\n",
    "array = ROI_1984_redband3.values[:5, :5]\n",
    "fig, ax = plt.subplots(figsize=(5,5))    # Adjust the size to fit the subarray size and/or adjust the annotations in the `plt.text()` call\n",
    "ax.matshow(array, cmap=\"Reds_r\")\n",
    "for y in range(array.shape[0]):\n",
    "    for x in range(array.shape[1]):\n",
    "        plt.text(x,y,array[y,x], bbox=dict(facecolor='beige'), horizontalalignment=\"center\")\n",
    "plt.show()\n",
    "```"
   ]
  },
  {
   "cell_type": "markdown",
   "id": "647e5dc1-3db1-471f-ac22-18b019113857",
   "metadata": {
    "tags": []
   },
   "source": [
    "> <font color='blue'>**B6.** Alternative (OPTIONAL)</font> \n",
    ">```\n",
    "array = ROI_1984_redband3[:5, :5]\n",
    "fig, ax = plt.subplots(figsize=(5,5))    # Adjust the size to fit the subarray size and/or adjust the annotations in the `plt.text()` call\n",
    "ax.matshow(array, cmap=\"Reds_r\")\n",
    "for y in range(array.shape[0]):\n",
    "    for x in range(array.shape[1]):\n",
    "        plt.text(x,y,array[y,x], bbox=dict(facecolor='beige'), horizontalalignment=\"center\")\n",
    "plt.show()\n",
    "```"
   ]
  },
  {
   "cell_type": "code",
   "execution_count": null,
   "id": "780f458f-acf7-422f-b588-abf79c0a1f1d",
   "metadata": {
    "tags": []
   },
   "outputs": [],
   "source": []
  },
  {
   "cell_type": "markdown",
   "id": "432b05f4-74af-45f5-b78a-526a91dae6d0",
   "metadata": {},
   "source": [
    ">**B7.** As the area of the ROI in 1984 covered by the pixels in the top-left corner is not overly interesting (!), let's have a look at the top-right corner instead.    \n",
    "> Start by visualising a 5x5 matrix, then keep increasing the size of the row/column slices, e.g. up to 500x500.\n",
    ">```\n",
    "plt.matshow(ROI_1984_redband3.values[:5, -5:], cmap=\"Reds_r\")    # Use negative indices for ease\n",
    "```"
   ]
  },
  {
   "cell_type": "markdown",
   "id": "03eb7b4b-b9f0-4d09-919f-df758282efec",
   "metadata": {
    "tags": []
   },
   "source": [
    "> <font color='blue'>**B7.** Alternative</font>\n",
    ">```\n",
    "plt.matshow(ROI_1984_redband3[:5, -5:], cmap=\"Reds_r\")\n",
    "```"
   ]
  },
  {
   "cell_type": "code",
   "execution_count": null,
   "id": "2684396f-eee9-4ff5-b676-8d2883408a5b",
   "metadata": {
    "tags": []
   },
   "outputs": [],
   "source": []
  },
  {
   "cell_type": "markdown",
   "id": "9b9abbf2-744b-4a37-b55a-32d409b0dc51",
   "metadata": {
    "nteract": {
     "transient": {
      "deleting": false
     }
    },
    "tags": []
   },
   "source": [
    "<font color=\"green\">***B7. Comment***     \n",
    "*- NASA has a (legacy) collection of satellite image showcasing interesting Agricultural Patterns -> https://earthobservatory.nasa.gov/images/6605/agricultural-patterns*"
   ]
  },
  {
   "cell_type": "markdown",
   "id": "f7fd4248-52e7-4f23-8c49-cafbbdb60833",
   "metadata": {
    "tags": []
   },
   "source": [
    "---\n",
    "## C. Prepare to calculate a spectral vegetation index"
   ]
  },
  {
   "cell_type": "markdown",
   "id": "4ad06607-48af-4b72-ad7b-180479ba9968",
   "metadata": {
    "tags": []
   },
   "source": [
    "<font color=\"green\">***C. Intro***    \n",
    "*- A Spectral Index or Ratio is an indicator of some phenomena, such as biophysical or biochemical properties, calculated using the different reflectance properties of different objects.*    \n",
    "*- Landsat data products like Burn Ratios and Moisture Index are examples of spectral indices.*    \n",
    "*- One type of spectral indices relevant to Deforestation are Vegetation Indices (VI), the most common of which is the Normalized Difference Vegetation Index (NDVI), used to quantify vegetation greenness.*    "
   ]
  },
  {
   "cell_type": "markdown",
   "id": "775c687a-5c26-411e-a926-3dad1411e1d4",
   "metadata": {},
   "source": [
    "<font color=\"green\">*- NDVI utilises certain reflectance properties of plants: chlorophyll strongly absorbs Red light, whilst leaves/plant structure strongly reflects NIR light.*      \n",
    "*- The formula to calculate NDVI therefore requires the reflectance values in the Red and NIR bands:*"
   ]
  },
  {
   "cell_type": "markdown",
   "id": "7036ee1e-d632-4aca-b63b-f5f363c5a007",
   "metadata": {},
   "source": [
    "$$\n",
    "  NDVI = \\frac{(Near Infrared - Red)}{(Near Infrared + Red)}\n",
    "$$      "
   ]
  },
  {
   "cell_type": "markdown",
   "id": "faf7e823-4b72-46d0-991f-bfa223ab35e5",
   "metadata": {},
   "source": [
    "<font color=\"green\">*- By design, NDVI values therefore range from -1.0 to +1.0. Negative values to 0 indicate no green leaves, whilst values approaching +1.0 indicate highest density of green leaves. (See NASA NDVI training, slide 10-11 -> https://appliedsciences.nasa.gov/sites/default/files/2020-11/ndvipart1.pdf)*        \n",
    "*- In Section D. we will calculate NDVI values for our ROI to help detect how the existing tropical dry forest cover in 1984 had changed by 2022, as likely Deforestation.*     \n",
    "*- Note that NDVI is often a pre-calculated data product, and is available from the LandsatLook portal - however for learning purposes we will construct our own.*"
   ]
  },
  {
   "cell_type": "markdown",
   "id": "b8049b8e-b10d-4283-a466-3daa2e9e2a50",
   "metadata": {},
   "source": [
    ">**C0.** In advance of calculating NDVI values using the above raster math formula, render the Red and NIR rasters of the ROI from 2022 as subplots.\n",
    ">\n",
    ">**Code Detail:** Use functionality provided by xarray via the `robust` parameter to compute plot colour limits excluding outliers, i.e. using the 2nd and 98th percentiles of the data -> https://docs.xarray.dev/en/stable/user-guide/plotting.html#robust\n",
    ">```\n",
    "fig, ax = plt.subplots(1,2, figsize=(14, 5))\n",
    "ROI_2022_redband4.plot(cmap=\"Reds_r\", ax=ax[0], robust=True)\n",
    "ROI_2022_nirband5.plot(cmap=\"Blues_r\", ax=ax[1], robust=True)\n",
    "plt.show()\n",
    "```"
   ]
  },
  {
   "cell_type": "markdown",
   "id": "91480d71-f7ba-419f-aef4-ac76524fd6ae",
   "metadata": {
    "tags": []
   },
   "source": [
    "> <font color='blue'>**C0.** Alternative</font> \n",
    "```\n",
    "fig, ax = plt.subplots(1,2, figsize=(14,5))\n",
    "ax[0].matshow(ROI_1984_redband3, cmap=\"Reds_r\")\n",
    "ax[1].matshow(ROI_1984_nirband4, cmap=\"Blues_r\")\n",
    "plt.show()\n",
    "```"
   ]
  },
  {
   "cell_type": "code",
   "execution_count": null,
   "id": "507d0176-c2e5-4652-b352-cefe63caa21a",
   "metadata": {
    "tags": []
   },
   "outputs": [],
   "source": []
  },
  {
   "cell_type": "markdown",
   "id": "ffcfc0ac-d57f-4bfb-bdc7-70209d1ba04c",
   "metadata": {},
   "source": [
    "---\n",
    "## D. Calculate Normalized Difference Vegetation Index (NDVI)"
   ]
  },
  {
   "cell_type": "markdown",
   "id": "295fd73e-c42c-4f66-9b69-256afe9a88c5",
   "metadata": {},
   "source": [
    ">**D0.** / <font color=\"blue\">**D0.** Alternative</font> Calculate NDVI values for the ROI in 1984 by performing the required raster math with `ROI_1984_nirband4` and `ROI_1984_redband3`, and assign to `NDVI_1984`.\n",
    ">```\n",
    "NDVI_1984 = (ROI_1984_nirband4 - ROI_1984_redband3) / (ROI_1984_nirband4 + ROI_1984_redband3)\n",
    "```"
   ]
  },
  {
   "cell_type": "code",
   "execution_count": null,
   "id": "3996873a-2364-438f-b280-ffc20115c06a",
   "metadata": {
    "tags": []
   },
   "outputs": [],
   "source": []
  },
  {
   "cell_type": "markdown",
   "id": "7f2ebff3-4198-4e4f-97bc-880a67e3fa11",
   "metadata": {},
   "source": [
    ">**D1.** Sense-check some of the `NDVI_1984` values, must be between -1.0 and +1.0.\n",
    ">```\n",
    "NDVI_1984.values[:2, :2]\n",
    "```"
   ]
  },
  {
   "cell_type": "markdown",
   "id": "270d6d45-9929-4967-a7e4-579b92318e52",
   "metadata": {
    "tags": []
   },
   "source": [
    "> <font color=\"blue\">**D1.** Alternative</font>\n",
    ">```\n",
    "NDVI_1984[:2, :2]\n",
    "```"
   ]
  },
  {
   "cell_type": "code",
   "execution_count": null,
   "id": "36cf206a-89c2-4d14-9180-895d9ccc6c7f",
   "metadata": {
    "tags": []
   },
   "outputs": [],
   "source": []
  },
  {
   "cell_type": "markdown",
   "id": "0d97a1bc-5bef-4ece-af8f-a8fd2ed10e29",
   "metadata": {},
   "source": [
    ">**D2.** / <font color=\"blue\">**D2.** Alternative</font> Calculate NDVI values for the ROI in 2022 by performing the required raster math with `ROI_2022_nirband4` and `ROI_2022_redband3`, and assign to `NDVI_2022`.\n",
    ">```\n",
    "NDVI_2022 = (ROI_2022_nirband5 - ROI_2022_redband4) / (ROI_2022_nirband5 + ROI_2022_redband4)\n",
    "```"
   ]
  },
  {
   "cell_type": "code",
   "execution_count": null,
   "id": "135c398d-16c3-4a43-8527-649800589e3b",
   "metadata": {
    "tags": []
   },
   "outputs": [],
   "source": []
  },
  {
   "cell_type": "markdown",
   "id": "2576ab98-abe8-4688-8586-00cdc600e944",
   "metadata": {},
   "source": [
    ">**D3.** Also sense-check some of the `NDVI_2022` values.\n",
    ">```\n",
    "NDVI_2022.values[:2, :2]\n",
    "```"
   ]
  },
  {
   "cell_type": "markdown",
   "id": "5489ad0b-3ede-4ba1-9b75-63b6a8a2b733",
   "metadata": {
    "tags": []
   },
   "source": [
    "> <font color=\"blue\">**D3.** Alternative</font>\n",
    ">```\n",
    "NDVI_2022[:2, :2]\n",
    "```"
   ]
  },
  {
   "cell_type": "code",
   "execution_count": null,
   "id": "95cb9ed3-a3d2-4319-b68b-9dc71a45f20e",
   "metadata": {
    "tags": []
   },
   "outputs": [],
   "source": []
  },
  {
   "cell_type": "markdown",
   "id": "d3f6b9ab-eb11-4800-ab4b-345fff0e9d81",
   "metadata": {
    "tags": []
   },
   "source": [
    ">**D4.** (OPTIONAL) Export NDVI rasters, which are xarray `DataArray` objects, in geotiff format.\n",
    ">```\n",
    "NDVI_1984.rio.to_raster(\"NDVI_1984.tif\")\n",
    "NDVI_2022.rio.to_raster(\"NDVI_2022.tif\")\n",
    "```"
   ]
  },
  {
   "cell_type": "markdown",
   "id": "e117eed3-c6e0-4f1a-abdb-a7e644e1f964",
   "metadata": {
    "tags": []
   },
   "source": [
    "> <font color=\"blue\">**D4.** Alternative (OPTIONAL)</font> Export NDVI arrays as binary files in numpy `.npy` format. Use `np.load()` to read.\n",
    ">```\n",
    "np.save(\"NDVI_1984\", NDVI_1984)\n",
    "np.save(\"NDVI_2022\", NDVI_2022)\n",
    "```"
   ]
  },
  {
   "cell_type": "code",
   "execution_count": null,
   "id": "b7826e79-392f-443d-89b7-c98978ab49bd",
   "metadata": {},
   "outputs": [],
   "source": []
  },
  {
   "cell_type": "markdown",
   "id": "fefefec8-441d-4a73-9cf8-9fedda3693a8",
   "metadata": {},
   "source": [
    "---\n",
    "## E. Create & Interpret NDVI maps"
   ]
  },
  {
   "cell_type": "markdown",
   "id": "ac3936cc-b249-49fe-b4f6-498a17952820",
   "metadata": {},
   "source": [
    ">**E0.** The NDVI datasets are still geospatial rasters, i.e. grids of pixels, and still each linked to 30 square meters on Earth. However, the value of these pixels indicate the density of green leaves covering that place on Earth, on a scale of -1.0 to +1.0, (i.e. not measurements of spectral reflectance). Let's therefore render both NDVI rasters to help discover how dense vegetation was in our ROI in 1984 compared to 2022.\n",
    "\n",
    ">**Code Detail:** Use manually pre-calculated `vmin` and `vmax` args to scale the (false) color to the actual range of our NDVI values.\n",
    ">```\n",
    "fig, ax = plt.subplots(1,2, figsize=(14, 5))\n",
    "NDVI_1984.plot(cmap=\"terrain_r\", ax=ax[0], vmin=-0.15, vmax=0.75)\n",
    "NDVI_2022.plot(cmap=\"terrain_r\", ax=ax[1], vmin=-0.15, vmax=0.75)\n",
    "plt.show()\n",
    "```"
   ]
  },
  {
   "cell_type": "markdown",
   "id": "27d84fbc-c37d-4e06-a9c6-7cc829553e08",
   "metadata": {
    "tags": []
   },
   "source": [
    "> <font color=\"blue\">**E0.** Alternative</font>\n",
    ">```\n",
    "fig, ax  = plt.subplots(1,2, figsize=(14,5))\n",
    "plot0 = ax[0].matshow(NDVI_1984, cmap=\"terrain_r\", vmin=-0.15, vmax=0.75)\n",
    "fig.colorbar(plot0, ax=ax[0])\n",
    "plot1 =ax[1].matshow(NDVI_2022, cmap=\"terrain_r\", vmin=-0.15, vmax=0.75)\n",
    "fig.colorbar(plot1, ax=ax[1])\n",
    "plt.show()\n",
    "```"
   ]
  },
  {
   "cell_type": "code",
   "execution_count": null,
   "id": "aac3df05-fbcb-4368-b574-a99ead522571",
   "metadata": {
    "tags": []
   },
   "outputs": [],
   "source": []
  },
  {
   "cell_type": "markdown",
   "id": "f623cb1d-25b1-4b8b-a92a-8cdbfdf645b7",
   "metadata": {},
   "source": [
    "<font color=\"green\">***E0. Comments***    \n",
    "*- **CAVEAT REMINDER!!** The difference in Landsat 5 TM and Landsat 9 OLI's band coverage affects the comparability of the respective NDVI computed, as derivative data products.*    \n",
    "*- However, these NDVI maps do provide guidance about the potential LCLU in this Amazon River basin region in 1984 and 2022:*    \n",
    " \n",
    "*\"Areas of barren rock, sand, or snow usually show very low NDVI values (for example, 0.1 or less). Sparse vegetation such as shrubs and grasslands or senescing crops may result in moderate NDVI values (approximately 0.2 to 0.5). High NDVI values (approximately 0.6 to 0.9) correspond to dense vegetation such as that found in temperate and tropical forests or crops at their peak growth stage.\"* (https://www.usgs.gov/special-topics/remote-sensing-phenology/science/ndvi-foundation-remote-sensing-phenology)\n",
    "\n",
    "<font color=\"green\">*- Other Remote Sensing considerations: Controlling for satellite band designations, spectral reflectance and therefore also derived products like spectral indices, are sensitive to different angles of observation and differences in the atmostphere during the two satellite overpasses, amongst many other factors.*"
   ]
  },
  {
   "cell_type": "markdown",
   "id": "2031257d-bbc4-4722-b567-125e7a9127c9",
   "metadata": {},
   "source": [
    ">**E1.** So far in this Exploration we've been handling continuous raster data. However, in preparation for developing a thematic Land Cover map next section, let's start to consider how we could meaningfully group, or bin, pixels into NDVI ranges associated with specific land cover. Check the distribution of both sets of NDVI values through quick histogram plotting. \n",
    ">```\n",
    "NDVI_1984.plot.hist(color=\"royalblue\")\n",
    "NDVI_2022.plot.hist(color=\"m\", alpha=0.5);    # The semi-colon tidies the plot by suppresses some extraneous info\n",
    "```"
   ]
  },
  {
   "cell_type": "markdown",
   "id": "9a1bb0b0-4b6d-4d2e-8318-71078dd7f578",
   "metadata": {
    "tags": []
   },
   "source": [
    "> <font color=\"blue\">**E1.** Alternative</font> \n",
    ">```\n",
    "plt.figure()\n",
    "plt.hist(NDVI_1984.flatten(), color=\"royalblue\")\n",
    "plt.hist(NDVI_2022.flatten(), color=\"m\", alpha=0.5);\n",
    "```"
   ]
  },
  {
   "cell_type": "code",
   "execution_count": null,
   "id": "a8b32a85-785d-4721-8f76-8de1d77b4e22",
   "metadata": {
    "tags": []
   },
   "outputs": [],
   "source": []
  },
  {
   "cell_type": "markdown",
   "id": "3b4edf60-2959-4238-ba42-d0b282a4a011",
   "metadata": {},
   "source": [
    "---\n",
    "## F. Classify Land Cover using NDVI & make thematic map"
   ]
  },
  {
   "cell_type": "markdown",
   "id": "05bab055-b738-462d-a730-a6252a328c10",
   "metadata": {},
   "source": [
    "<font color=\"green\">***F. Intro***    \n",
    "*- LEARNING NOTE: This section is designed to **introduce** the idea of pixel-based Image Classification of Land Cover using Satellite Imagery in order to create thematic maps, and **does not represent best-practice**! Check out NASA training material on this topic, e.g. -> https://appliedsciences.nasa.gov/sites/default/files/Session%20One%20-%20Introduction%20to%20Land%20Cover%20Classification%20and%20QGIS.pdf*      \n",
    "*- We will be executing an experimental process, trying to develop a meaningful thematic Land Cover map of our ROI in 2022, leveraging known NDVI values of certain land cover, and the distribution of empirical NDVI values.*      \n",
    "*- Central to this process is performing pixel-based classification. We will have a go at producing a map that describes 4 land cover types, by implementing the below experimental classification scheme whereby every pixel will be assigned a class, based on it's NDVI value:*\n",
    "\n",
    "> \n",
    "|       Class                   | NDVI   | \n",
    "| ----------------------------- | ------ |\n",
    "| Rock/Bare Soil/Water/Concrete | -1.0 <= NDVI < 0.15 |\n",
    "| Sparse/Senescing Veg1         | 0.15 <= NDVI < 0.25 |\n",
    "| Sparse/Senescing Veg2         | 0.25 <= NDVI < 0.4  |\n",
    "| Denser Veg                    | 0.4  <= NDVI <= 1.0 |\n",
    ">\n"
   ]
  },
  {
   "cell_type": "markdown",
   "id": "795c7cde-90b6-4e50-a3c7-0cce9d9f6723",
   "metadata": {},
   "source": [
    ">**F0.** / <font color='blue'>**F0.** No Alternative</font> Find out the official type of the `NDVI_2022` object.\n",
    ">```\n",
    "type(NDVI_2022)\n",
    "```"
   ]
  },
  {
   "cell_type": "code",
   "execution_count": null,
   "id": "7e2763bc-b3eb-47bb-857c-16d6fdaf0171",
   "metadata": {
    "tags": []
   },
   "outputs": [],
   "source": []
  },
  {
   "cell_type": "markdown",
   "id": "d11fdd9a-8e6f-4fcb-bade-be5430d90fc7",
   "metadata": {},
   "source": [
    ">**F1.** / <font color='blue'>**F1.** Alternative</font> Make a copy of `NDVI_2022` named `LCLU`.\n",
    ">```\n",
    "LCLU = NDVI_2022.copy()\n",
    "```"
   ]
  },
  {
   "cell_type": "code",
   "execution_count": null,
   "id": "62770fc7-2791-4a9d-a9b3-f58e960dfeb3",
   "metadata": {
    "tags": []
   },
   "outputs": [],
   "source": []
  },
  {
   "cell_type": "markdown",
   "id": "4ecf2a88-e242-4235-903f-82b3782e6890",
   "metadata": {},
   "source": [
    ">**F2.** Our approach to implementing the pixel classification involves manually binning the subset of pixels that belong in each class (so the process is more transparent).  Try calling xarray's `where()` function in order to test replacing the NDVI values in `LCLU` which are `< 0.3` with `99`.\n",
    ">```\n",
    "xr.where(LCLU < 0.3, 99, LCLU)\n",
    "```"
   ]
  },
  {
   "cell_type": "markdown",
   "id": "a8a45495-2980-474a-a86d-2faeac216f5a",
   "metadata": {
    "tags": []
   },
   "source": [
    "> <font color=\"blue\">**F2.** Alternative</font>\n",
    ">```\n",
    "np.where(LCLU < 0.3, 99, LCLU)\n",
    "```"
   ]
  },
  {
   "cell_type": "code",
   "execution_count": null,
   "id": "3743aa67-d05e-4a1f-832a-21a0f044a456",
   "metadata": {
    "tags": []
   },
   "outputs": [],
   "source": []
  },
  {
   "cell_type": "markdown",
   "id": "a00a904a-97c8-4ea5-9a2a-1c935d16123c",
   "metadata": {},
   "source": [
    ">**F3.** Build the final `DataArray` output, `LCLU_4`, through creating a series of incrementally updated `DataArrays`, that replace the pixel values assigned to each class with `100`, `200`, `300`, and `400` respectively.\n",
    ">\n",
    ">**Tech Note:**    \n",
    ">1.0 <= NDVI <0.15 becomes 100 - Rock/Bare Soil/Water/Concrete class    \n",
    ">0.15 <= NDVI <0.25 becomes 200 - Sparse/Senescing Veg1 class    \n",
    ">0.25 <= NDVI <0.4 becomes 300 - Sparse/Senescing Veg2 class     \n",
    ">0.4 <= NDVI <=1.0 becomes 400 - Denser Veg  class    \n",
    ">```\n",
    "LCLU_1 = xr.where(LCLU < 0.15, 100, LCLU)\n",
    "LCLU_2 = xr.where(LCLU_1 < 0.25, 200, LCLU_1)\n",
    "LCLU_3 = xr.where(LCLU_2 < 0.4, 300, LCLU_2)\n",
    "LCLU_4 = xr.where(LCLU_3 <= 1, 400, LCLU_3)\n",
    "```"
   ]
  },
  {
   "cell_type": "markdown",
   "id": "9de5b3a4-a637-48c1-b017-7bb835283e27",
   "metadata": {
    "tags": []
   },
   "source": [
    "> <font color=\"blue\">**F3.** Alternative</font> \n",
    ">```\n",
    "LCLU_1 = np.where(LCLU < 0.15, 100, LCLU)\n",
    "LCLU_2 = np.where(LCLU_1 < 0.25, 200, LCLU_1)\n",
    "LCLU_3 = np.where(LCLU_2 < 0.4, 300, LCLU_2)\n",
    "LCLU_4 = np.where(LCLU_3 <= 1, 400, LCLU_3)\n",
    "```"
   ]
  },
  {
   "cell_type": "code",
   "execution_count": null,
   "id": "6311a690-094f-41e7-8c53-c10484c7a793",
   "metadata": {
    "tags": []
   },
   "outputs": [],
   "source": []
  },
  {
   "cell_type": "markdown",
   "id": "0614d84f-d13d-45e8-bce8-0aac67437718",
   "metadata": {},
   "source": [
    ">**F4.** Review the fully classified raster `LCLU_4`, representing our Land Cover map, by generating a quick plot.\n",
    ">```\n",
    "LCLU_4.plot()\n",
    "```"
   ]
  },
  {
   "cell_type": "markdown",
   "id": "86f46ae8-c96d-4a08-93eb-6b8824a20066",
   "metadata": {
    "tags": []
   },
   "source": [
    "> <font color=\"blue\">**F4.** Alternative</font> \n",
    ">```\n",
    "LCLU_4_plot = plt.matshow(LCLU_4)\n",
    "fig.colorbar(LCLU_4_plot)\n",
    "plt.show()\n",
    "```"
   ]
  },
  {
   "cell_type": "code",
   "execution_count": null,
   "id": "ef7d49c1-7140-443d-859f-92a908771b9d",
   "metadata": {
    "tags": []
   },
   "outputs": [],
   "source": []
  },
  {
   "cell_type": "markdown",
   "id": "de7a7699-0ae1-44a7-a4b0-72ae1c69c54c",
   "metadata": {},
   "source": [
    ">**F5.** / <font color=\"blue\">**F5.** Alternative</font> Let's prepare to construct an upgraded version of this Land Cover map. Import the `ListedColormap` class from matplotlib.colors.\n",
    ">```\n",
    "from matplotlib.colors import ListedColormap\n",
    "```"
   ]
  },
  {
   "cell_type": "code",
   "execution_count": null,
   "id": "5608f481-b86d-4053-bf63-0614e7a2437b",
   "metadata": {
    "tags": []
   },
   "outputs": [],
   "source": []
  },
  {
   "cell_type": "markdown",
   "id": "6974fb9a-c785-4294-9906-78a8646236ef",
   "metadata": {},
   "source": [
    ">**F6.** / <font color=\"blue\">**F6.** Alternative</font> Create a custom cmap consisting of 4 appropriate named colours called `LCLU_cmap`. The colours will be used in turn, starting from the lowest data values then ascending, i.e. 100 to 400.\n",
    "```\n",
    "LCLU_cmap = ListedColormap( [\"sandybrown\", \"gold\", \"yellowgreen\", \"forestgreen\"] )\n",
    "```"
   ]
  },
  {
   "cell_type": "code",
   "execution_count": null,
   "id": "4b31a6c5-3e03-4ae9-9a20-ff27c91b2a67",
   "metadata": {
    "tags": []
   },
   "outputs": [],
   "source": []
  },
  {
   "cell_type": "markdown",
   "id": "c266709e-97e8-4111-9794-c70abdb47062",
   "metadata": {},
   "source": [
    ">**F7.** Make the upgraded Land Cover map of the ROI from 2022, using `LCLU_cmap` and other matplotlib options to fine-tune the plot.\n",
    ">```\n",
    "fig, ax = plt.subplots(figsize=(8,6))\n",
    "LCLU_4.plot(cmap=LCLU_cmap)\n",
    "colorbar=ax.collections[0].colorbar\n",
    "colorbar.set_ticks([100,200,300,400])\n",
    "colorbar.set_ticklabels([\"Rock/Bare Soil/Water/Concrete\", \"Sparse/Senescing Veg1\", \"Sparse/Senescing Veg2\", \"Denser Veg\"])\n",
    "#plt.tight_layout()\n",
    "#plt.savefig(\"<SomeFilename>.png\", dpi=600)    # Use the optional dpi (dots-per-inch) argument to control the resolution of the png\n",
    "plt.show()\n",
    "```"
   ]
  },
  {
   "cell_type": "markdown",
   "id": "858714ed-a5d2-402b-9222-515e667597cd",
   "metadata": {
    "tags": []
   },
   "source": [
    "> <font color=\"blue\">**F7.** Alternative</font>\n",
    ">```\n",
    "fig, ax = plt.subplots(figsize=(8,6))\n",
    "classed_plot = ax.matshow(LCLU_4, cmap=LCLU_cmap)\n",
    "cbar = fig.colorbar(classed_plot)\n",
    "cbar.set_ticks([100,200,300,400])\n",
    "cbar.set_ticklabels([\"Rock/Bare Soil/Water/Concrete\", \"Sparse/Senescing Veg1\", \"Sparse/Senescing Veg2\", \"Denser Veg\"])\n",
    "#plt.tight_layout()\n",
    "#plt.savefig(\"<SomeFilename>.png\", dpi=600)\n",
    "plt.show()\n",
    "```"
   ]
  },
  {
   "cell_type": "code",
   "execution_count": null,
   "id": "6b111ed8-501d-4a7a-8bac-efbf5a663361",
   "metadata": {
    "tags": []
   },
   "outputs": [],
   "source": []
  },
  {
   "cell_type": "markdown",
   "id": "452ad118-3530-4e36-88d4-7a8c18f6bb9a",
   "metadata": {},
   "source": [
    "---\n",
    "## G. Transform coordinates from different map projection (OPTIONAL)\n",
    "<font color='blue'>**G.** No Alternative</font>"
   ]
  },
  {
   "cell_type": "markdown",
   "id": "62b57a42-7780-47c5-b7a6-5ef1784bba15",
   "metadata": {},
   "source": [
    "<font color=\"green\">***G. Intro***     \n",
    "*- We briefly mentioned map projection and CRS in the Carbon Polluters Exploration.*    \n",
    "*- This section works through a real use-case for navigating different projections in order to be able to cross-reference places on earth between different maps/sources.*    \n",
    "*- Having identified a point of interest (POI) using \"The Brazilian Annual Land Use and Land Cover Mapping Project\" (MapBiomas) where forest has been cleared for pasture in 2020, we will take steps to extend the F7. Land Cover map with an annotation of this POI.*    \n",
    "           \n",
    "     \n",
    "* (OPTIONAL) Steps taken to identify POI:    \n",
    "    * Access MapBiomas at https://mapbiomas.org/\n",
    "    * MAPAS E DADOS > ACESSE A PLATAFORMA > PLATAFORMA MAPBIOMAS USO E COBERTURA\n",
    "    * For English, change setting at bottom-left \n",
    "    * Under Land Cover default view, set Territory Category as State and Territory as Rondônia\n",
    "    * Under Legend click Natural and Anthropic use\n",
    "    * Deselect the Anthropic option, then select just the Pasture sub-use\n",
    "    * Zoom to the POI at map coordinates (-13.55, -61.00) and use the horizontal time slider to compare change from Natural to Pasture use from 2020 to 2021"
   ]
  },
  {
   "cell_type": "markdown",
   "id": "966cb1c3-cf7a-455c-a40a-ea628318a17a",
   "metadata": {},
   "source": [
    ">**G0.** Load specific functionality from pyproj.\n",
    ">```\n",
    "from pyproj import Transformer, CRS\n",
    "```"
   ]
  },
  {
   "cell_type": "code",
   "execution_count": null,
   "id": "90cf6212-2de4-434e-9787-249be3f8765c",
   "metadata": {
    "tags": []
   },
   "outputs": [],
   "source": []
  },
  {
   "cell_type": "markdown",
   "id": "56a9ca09-6e0f-4f23-88b7-a2893f6c53a4",
   "metadata": {},
   "source": [
    ">**G1.** Check `NDVI_2022`'s projection.\n",
    ">```\n",
    "NDVI_2022.rio.crs\n",
    "```"
   ]
  },
  {
   "cell_type": "code",
   "execution_count": null,
   "id": "48cda889-9ca6-46e6-9aa4-93a5a6622b30",
   "metadata": {
    "tags": []
   },
   "outputs": [],
   "source": []
  },
  {
   "cell_type": "markdown",
   "id": "49e568c4-503c-402a-90ab-6256a79ce979",
   "metadata": {},
   "source": [
    ">**G2.** Use `CRS` to find out official info about the crs EPSG:32620.\n",
    ">```\n",
    "CRS.from_epsg(32620)\n",
    "```"
   ]
  },
  {
   "cell_type": "code",
   "execution_count": null,
   "id": "543fcbce-1e04-42ac-8cb8-3939bca5f49f",
   "metadata": {
    "tags": []
   },
   "outputs": [],
   "source": []
  },
  {
   "cell_type": "markdown",
   "id": "16a51a0f-9f10-4a8c-8854-73ebb9a84d39",
   "metadata": {},
   "source": [
    ">**G3.** Create variables for the POI coordinates, `-13.55, -61.00` (lat, long), which are in the EPSG:4326 coordinate system.\n",
    ">```\n",
    "epsg4326_long = -61.00\n",
    "epsg4326_lat = -13.55\n",
    "```"
   ]
  },
  {
   "cell_type": "code",
   "execution_count": null,
   "id": "0999716a-dc5b-4a53-8cb8-092da8fe15aa",
   "metadata": {
    "tags": []
   },
   "outputs": [],
   "source": []
  },
  {
   "cell_type": "markdown",
   "id": "90f0853b-3953-4e1c-ad82-04a72bf399b2",
   "metadata": {},
   "source": [
    ">**G4.** Prepare to convert/transform these EPSG:4326 coordinates to the CRS our raster data is in, EPSG:32620. First create the Transformer object.\n",
    ">```\n",
    "transformer_4326to32620 = Transformer.from_crs(\"EPSG:4326\", NDVI_2022.rio.crs, always_xy=True)\n",
    "```"
   ]
  },
  {
   "cell_type": "code",
   "execution_count": null,
   "id": "eedda086-b252-4b96-8586-d5148e057bb8",
   "metadata": {
    "tags": []
   },
   "outputs": [],
   "source": []
  },
  {
   "cell_type": "markdown",
   "id": "1fec9ca6-241f-43d9-ba40-c64d10adc0e6",
   "metadata": {},
   "source": [
    ">**G5.** Use the Transformer object to convert the EPSG:4326 coordinates to the EPSG:32620 CRS as `epsg32620_POI_x` and `epsg32620_POI_y`.    \n",
    ">\n",
    ">**Tech Note:** (x,y) refers to (long,lat).\n",
    ">```\n",
    "epsg32620_POI_x, epsg32620_POI_y = transformer_4326to32620.transform(epsg4326_long, epsg4326_lat)\n",
    "```"
   ]
  },
  {
   "cell_type": "code",
   "execution_count": null,
   "id": "a5cc6cdc-a634-4444-8168-1438401d1ced",
   "metadata": {
    "tags": []
   },
   "outputs": [],
   "source": []
  },
  {
   "cell_type": "markdown",
   "id": "70c3ac70-abd8-4663-8eee-17d64ed0ac83",
   "metadata": {},
   "source": [
    ">**G6.** Have a look at the actual converted coordinates of our POI.\n",
    ">```\n",
    "epsg32620_POI_x, epsg32620_POI_y\n",
    "```"
   ]
  },
  {
   "cell_type": "code",
   "execution_count": null,
   "id": "a91bb975-1fb1-4bb5-b0e6-acbf0b503c19",
   "metadata": {
    "tags": []
   },
   "outputs": [],
   "source": []
  },
  {
   "cell_type": "markdown",
   "id": "dfc62ab3-f173-456b-bdbe-5020bf6ed255",
   "metadata": {},
   "source": [
    ">**G7.** Try using the converted POI coordinates with xarray's `sel()` method to see what the NDVI value in 2022 was at this location.\n",
    ">```\n",
    "NDVI_2022.sel(x=epsg32620_POI_x, y=epsg32620_POI_y, method=\"nearest\").values\n",
    "```"
   ]
  },
  {
   "cell_type": "code",
   "execution_count": null,
   "id": "3a3fce4a-38d9-47a7-8138-e2acac101143",
   "metadata": {
    "tags": []
   },
   "outputs": [],
   "source": []
  },
  {
   "cell_type": "markdown",
   "id": "780dca9f-9474-45d8-aa97-e7873dbd1761",
   "metadata": {},
   "source": [
    ">**G8.** Copy the **F7.** plotting routine, add an `annotate()` call to mark the POI on the classified `LCLU_4` raster, and resize the plot.\n",
    ">```\n",
    "fig, ax = plt.subplots(figsize=(11,8))\n",
    "LCLU_4.plot(cmap=LCLU_cmap)\n",
    "colorbar=ax.collections[0].colorbar\n",
    "colorbar.set_ticks([100,200,300,400])\n",
    "colorbar.set_ticklabels([\"Rock/Bare Soil/Water/Concrete\", \"Sparse/Senescing Veg1\", \"Sparse/Senescing Veg2\", \"Denser Veg\"])\n",
    "ax.annotate(\"New deforestation for pasture\", xy=(epsg32620_POI_x, epsg32620_POI_y), arrowprops=dict(facecolor=\"Red\"), textcoords=\"axes fraction\", xytext = (0.5, 0.15), fontsize=12)\n",
    "#plt.tight_layout()\n",
    "#plt.savefig(\"<SomeFilename>.png\", dpi=600)    \n",
    "plt.show()\n",
    "```"
   ]
  },
  {
   "cell_type": "code",
   "execution_count": null,
   "id": "bbf0be00-7e09-4b11-a364-69e09e4bf026",
   "metadata": {
    "tags": []
   },
   "outputs": [],
   "source": []
  },
  {
   "cell_type": "markdown",
   "id": "19dafe6e-a4f8-4278-babc-ff89dddec8f4",
   "metadata": {},
   "source": [
    "---\n",
    "Copyright © 2023 Rho Zeta AI Ltd. All rights reserved."
   ]
  }
 ],
 "metadata": {
  "kernelspec": {
   "display_name": "Python 3 (ipykernel)",
   "language": "python",
   "name": "python3"
  },
  "language_info": {
   "codemirror_mode": {
    "name": "ipython",
    "version": 3
   },
   "file_extension": ".py",
   "mimetype": "text/x-python",
   "name": "python",
   "nbconvert_exporter": "python",
   "pygments_lexer": "ipython3",
   "version": "3.9.7"
  },
  "nteract": {
   "version": "0.28.0"
  }
 },
 "nbformat": 4,
 "nbformat_minor": 5
}
